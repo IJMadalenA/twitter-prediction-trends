{
 "cells": [
  {
   "cell_type": "markdown",
   "metadata": {},
   "source": [
    "# Planteamiento del Proyecto.\n",
    "\n",
    "La cobertura de los medios no solo dirige lo que pensamos, sino que también determina cómo pensamos.\n",
    "\n",
    "Esta influencia proporciona a los medios una poderosa herramienta para influir en el gobierno y la forma en que las personas lo ven, de modo que la opinión pública acaba siendo controlada por los medios de comunicación.\n",
    "\n"
   ]
  },
  {
   "cell_type": "code",
   "execution_count": null,
   "metadata": {},
   "outputs": [],
   "source": []
  }
 ],
 "metadata": {
  "kernelspec": {
   "display_name": "Python 3",
   "language": "python",
   "name": "python3"
  },
  "language_info": {
   "codemirror_mode": {
    "name": "ipython",
    "version": 3
   },
   "file_extension": ".py",
   "mimetype": "text/x-python",
   "name": "python",
   "nbconvert_exporter": "python",
   "pygments_lexer": "ipython3",
   "version": "3.8.3"
  }
 },
 "nbformat": 4,
 "nbformat_minor": 4
}
