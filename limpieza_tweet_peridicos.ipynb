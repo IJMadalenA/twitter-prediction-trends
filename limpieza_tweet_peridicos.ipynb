{
 "cells": [
  {
   "cell_type": "code",
   "execution_count": 1,
   "metadata": {},
   "outputs": [],
   "source": [
    "import numpy as np\n",
    "import pandas as pd\n",
    "import json\n",
    "import re\n",
    "import string\n",
    "\n",
    "from datetime import datetime\n",
    "from textblob import TextBlob\n",
    "\n",
    "from nltk.classify import NaiveBayesClassifier\n",
    "from nltk.corpus import subjectivity\n",
    "from nltk.sentiment import SentimentAnalyzer\n",
    "#from nltk.sentiment.util import *"
   ]
  },
  {
   "cell_type": "code",
   "execution_count": 2,
   "metadata": {},
   "outputs": [],
   "source": [
    "def to_dict(string):\n",
    "    if string != \"[]\":\n",
    "        string = json.loads(string.replace(\"'\", \"\\\"\"))\n",
    "        return \",\".join([s[\"screen_name\"] for s in string])\n",
    "    return \"\"\n",
    "\n",
    "def to_list(list_):\n",
    "    if list_ != \"[]\":\n",
    "        list_ = list_[1:-1]\n",
    "        list_ = list_.split(\",\")\n",
    "        return \",\".join([s.strip().strip(\"'\") for s in list_])\n",
    "    return \"\"\n",
    "\n",
    "def normalize(s):\n",
    "    replacements = ((\"á\", \"a\"), (\"é\", \"e\"), (\"í\", \"i\"), (\"ó\", \"o\"), (\"ú\", \"u\"))\n",
    "    for a, b in replacements:\n",
    "        s = s.lower()\n",
    "        s = s.replace(a, b)\n",
    "    return s\n",
    "\n",
    "def deEmojify(text):\n",
    "    regrex_pattern = re.compile(pattern = \"[\"\n",
    "        u\"\\U0001F600-\\U0001F64F\"  # emoticons\n",
    "        u\"\\U0001F300-\\U0001F5FF\"  # symbols & pictographs\n",
    "        u\"\\U0001F680-\\U0001F6FF\"  # transport & map symbols\n",
    "        u\"\\U0001F1E0-\\U0001F1FF\"  # flags (iOS)\n",
    "                           \"]+\", flags = re.UNICODE)\n",
    "    return regrex_pattern.sub(r\"\", text)\n",
    "\n",
    "def cleanTxt(text):\n",
    "    text = re.sub(r\"@[a-zA-Z0-9]+\", \"\", text) #Removes @mentions\n",
    "    text = re.sub(r\"#\", \"\", text) #Removing the \"#\" symbol\n",
    "    text = re.sub(r\"RT[\\s]+\", \"\", text) #Removing RT\n",
    "    text = re.sub(r\"https?:\\/\\/\\S+\", \"\", text) #Remove the hyperlink\n",
    "    return text\n",
    "\n",
    "def replace_punct(s):\n",
    "    for i in string.punctuation:\n",
    "        if i in s:\n",
    "            s = s.replace(i, \"\").strip()\n",
    "    return s\n",
    "\n",
    "def replace_num(s):\n",
    "    for i in [\"0\", \"1\", \"2\", \"3\", \"4\", \"5\", \"6\", \"7\", \"8\", \"9\"]:\n",
    "        s = s.replace(i, \"\")\n",
    "    return s\n",
    "\n",
    "def preprocessor(text):\n",
    "    text = re.sub(r\"[\\W]+\", \"\", text.lower()) \n",
    "    return text"
   ]
  },
  {
   "cell_type": "code",
   "execution_count": 3,
   "metadata": {},
   "outputs": [],
   "source": [
    "df = pd.read_csv(\"C:/Users/Daniel/Desktop/proyecto/notebooks/tweets_periodicos.csv\")\n",
    "\n",
    "df.drop(df.columns[0], axis = 1, inplace = True)"
   ]
  },
  {
   "cell_type": "code",
   "execution_count": 4,
   "metadata": {},
   "outputs": [],
   "source": [
    "columns_to_drop = [\"conversation_id\", \"cashtags\", \"timezone\", \"user_id\", \"name\", \"thumbnail\", \"created_at\", \"id\", \"link\"]\n",
    "\n",
    "df.drop(columns_to_drop, axis = 1, inplace = True)\n",
    "\n",
    "df.drop(\"language\", axis = 1, inplace = True)\n",
    "\n",
    "df = df.reset_index().drop(\"index\", axis = 1)"
   ]
  },
  {
   "cell_type": "code",
   "execution_count": 5,
   "metadata": {},
   "outputs": [],
   "source": [
    "reply_to_rows = []\n",
    "for num, row in enumerate(df.reply_to):\n",
    "    try:\n",
    "        to_dict(row)\n",
    "    except:\n",
    "        reply_to_rows.append(num)\n",
    "        \n",
    "df.drop(reply_to_rows, inplace = True)\n",
    "\n",
    "df.reply_to = df.reply_to.apply(to_dict)\n",
    "\n",
    "df = df.reset_index().drop(\"index\", axis = 1)"
   ]
  },
  {
   "cell_type": "code",
   "execution_count": 6,
   "metadata": {},
   "outputs": [],
   "source": [
    "mention_rows = []\n",
    "for num, row in enumerate(df.mentions):\n",
    "    try:\n",
    "        to_dict(row)\n",
    "    except:\n",
    "        mention_rows.append(num)\n",
    "        \n",
    "df.drop(mention_rows, inplace = True)\n",
    "\n",
    "df.mentions = df.mentions.apply(to_dict)\n",
    "\n",
    "df = df.reset_index().drop(\"index\", axis = 1)"
   ]
  },
  {
   "cell_type": "code",
   "execution_count": 7,
   "metadata": {},
   "outputs": [],
   "source": [
    "hashtags_rows = []\n",
    "for num, row in enumerate(df.hashtags):\n",
    "    try:\n",
    "        to_list(row)\n",
    "    except:\n",
    "        hashtags_rows.append(num)\n",
    "        \n",
    "df.drop(hashtags_rows, inplace = True)\n",
    "\n",
    "df.hashtags = df.hashtags.apply(to_list)\n",
    "\n",
    "df = df.reset_index().drop(\"index\", axis = 1)"
   ]
  },
  {
   "cell_type": "code",
   "execution_count": 8,
   "metadata": {},
   "outputs": [],
   "source": [
    "df.photos = df.photos.apply(lambda x : 1 if x != \"[]\" else 0)\n",
    "df.retweet = df.retweet.apply(lambda x : 1 if x == \"True\" else 0)\n",
    "df.urls = df.urls.apply(lambda x : 1 if x != \"[]\" else 0)"
   ]
  },
  {
   "cell_type": "code",
   "execution_count": 9,
   "metadata": {},
   "outputs": [
    {
     "name": "stdout",
     "output_type": "stream",
     "text": [
      "Wall time: 3.65 s\n"
     ]
    }
   ],
   "source": [
    "%%time\n",
    "df.date = df.date.apply(lambda x : datetime.strptime(x, \"%Y-%m-%d\"))"
   ]
  },
  {
   "cell_type": "code",
   "execution_count": 10,
   "metadata": {},
   "outputs": [
    {
     "name": "stdout",
     "output_type": "stream",
     "text": [
      "Wall time: 4.73 s\n"
     ]
    }
   ],
   "source": [
    "%%time\n",
    "df.time = df.time.apply(lambda x : datetime.strptime(x, \"%H:%M:%S\"))"
   ]
  },
  {
   "cell_type": "code",
   "execution_count": 11,
   "metadata": {},
   "outputs": [],
   "source": [
    "df.tweet = df.tweet.apply(normalize)\n",
    "df.tweet = df.tweet.apply(deEmojify)\n",
    "df.tweet = df.tweet.apply(cleanTxt)\n",
    "df.tweet = df.tweet.apply(replace_punct)\n",
    "df.tweet = df.tweet.apply(replace_num)"
   ]
  },
  {
   "cell_type": "code",
   "execution_count": 12,
   "metadata": {},
   "outputs": [
    {
     "data": {
      "text/plain": [
       "'el gobierno regula la navegacion recreativa ya se puede hacer vela en solitario y arrancar los barcos se podra navegar a motor en la fase  en grupos limitados'"
      ]
     },
     "execution_count": 12,
     "metadata": {},
     "output_type": "execute_result"
    }
   ],
   "source": [
    "df.tweet[0]"
   ]
  },
  {
   "cell_type": "code",
   "execution_count": 19,
   "metadata": {},
   "outputs": [
    {
     "data": {
      "text/plain": [
       "0.0"
      ]
     },
     "execution_count": 19,
     "metadata": {},
     "output_type": "execute_result"
    }
   ],
   "source": [
    "TextBlob(df.tweet[12345]).sentiment.polarity"
   ]
  },
  {
   "cell_type": "code",
   "execution_count": 14,
   "metadata": {},
   "outputs": [
    {
     "data": {
      "text/plain": [
       "(39329, 14)"
      ]
     },
     "execution_count": 14,
     "metadata": {},
     "output_type": "execute_result"
    }
   ],
   "source": [
    "df.shape"
   ]
  },
  {
   "cell_type": "code",
   "execution_count": null,
   "metadata": {},
   "outputs": [],
   "source": []
  }
 ],
 "metadata": {
  "kernelspec": {
   "display_name": "Python 3",
   "language": "python",
   "name": "python3"
  },
  "language_info": {
   "codemirror_mode": {
    "name": "ipython",
    "version": 3
   },
   "file_extension": ".py",
   "mimetype": "text/x-python",
   "name": "python",
   "nbconvert_exporter": "python",
   "pygments_lexer": "ipython3",
   "version": "3.7.6"
  }
 },
 "nbformat": 4,
 "nbformat_minor": 4
}
