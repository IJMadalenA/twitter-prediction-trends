{
 "cells": [
  {
   "cell_type": "code",
   "execution_count": null,
   "metadata": {},
   "outputs": [],
   "source": [
    "import numpy as np\n",
    "import pandas as pd\n",
    "import seaborn as sns"
   ]
  },
  {
   "cell_type": "code",
   "execution_count": null,
   "metadata": {},
   "outputs": [],
   "source": [
    "%%time\n",
    "df = pd.read_csv(\"C:/Users/Daniel/Desktop/csv/dia 25/trends/tweets_25_tendencia_preprocesado.csv\", sep = \";\")\n",
    "#df.drop(df.columns[0], axis = 1, inplace = True)"
   ]
  },
  {
   "cell_type": "code",
   "execution_count": null,
   "metadata": {},
   "outputs": [],
   "source": [
    "df.head()"
   ]
  },
  {
   "cell_type": "code",
   "execution_count": null,
   "metadata": {},
   "outputs": [],
   "source": [
    "df.columns"
   ]
  },
  {
   "cell_type": "code",
   "execution_count": null,
   "metadata": {},
   "outputs": [],
   "source": [
    "#df.drop(df.columns[0], axis = 1, inplace = True)\n",
    "#df.drop(df.columns[-4], axis = 1, inplace = True)"
   ]
  },
  {
   "cell_type": "code",
   "execution_count": null,
   "metadata": {},
   "outputs": [],
   "source": [
    "#df.isna().sum()/df.shape[0]*100"
   ]
  },
  {
   "cell_type": "code",
   "execution_count": null,
   "metadata": {},
   "outputs": [],
   "source": [
    "#df[\"mentions_count\"] = [len(mention.split(\",\")) if type(mention) == str else 0 for mention in df.mentions]\n",
    "\n",
    "#df[\"reply_to_count\"] = [len(reply.split(\",\")) if type(reply) == str else 0 for reply in df.reply_to]\n",
    "\n",
    "#df[\"hashtags_count\"] =  [len(hashtag.split(\",\")) if type(hashtag) == str else 0 for hashtag in df.hashtags]\n",
    "\n",
    "#df[\"interaccion\"] = [rt + re + lk for rt, re, lk in zip(df.retweets_count, df.replies_count, df.likes_count)]"
   ]
  },
  {
   "cell_type": "code",
   "execution_count": null,
   "metadata": {},
   "outputs": [],
   "source": [
    "df_summary = pd.DataFrame(df.trend.value_counts()).reset_index()\n",
    "df_summary.columns = [\"trend\", \"total_tweet\"]"
   ]
  },
  {
   "cell_type": "code",
   "execution_count": null,
   "metadata": {},
   "outputs": [],
   "source": [
    "%%time\n",
    "\n",
    "df_summary[\"total_hashtags\"]    = [df[df.trend == trend].hashtags_count.sum() for trend in df_summary.trend]\n",
    "\n",
    "df_summary[\"total_mentions\"]    = [df[df.trend == trend].mentions_count.sum() for trend in df_summary.trend]\n",
    "\n",
    "df_summary[\"total_reply_to\"]    = [df[df.trend == trend].reply_to_count.sum() for trend in df_summary.trend]\n",
    "\n",
    "df_summary[\"total_url\"]         = [df[df.trend == trend].urls.sum()           for trend in df_summary.trend]\n",
    "\n",
    "df_summary[\"total_photo\"]       = [df[df.trend == trend].photos.sum()         for trend in df_summary.trend]\n",
    "\n",
    "df_summary[\"total_retweets\"]    = [df[df.trend == trend].retweets_count.sum() for trend in df_summary.trend]\n",
    "\n",
    "df_summary[\"total_likes\"]       = [df[df.trend == trend].likes_count.sum()    for trend in df_summary.trend]\n",
    "\n",
    "df_summary[\"total_replies\"]     = [df[df.trend == trend].replies_count.sum()  for trend in df_summary.trend]\n",
    "\n",
    "df_summary[\"total_interaction\"] = [df[df.trend == trend].interaccion.sum()    for trend in df_summary.trend]"
   ]
  },
  {
   "cell_type": "code",
   "execution_count": null,
   "metadata": {},
   "outputs": [],
   "source": [
    "lifetime = []\n",
    "for trend in df_summary.trend:\n",
    "    start_end = list(df[df.trend == trend].sort_values(\"time\").time.iloc[[0, -1]])\n",
    "    start_end = int(start_end[1][0:2]) - int(start_end[0][0:2])\n",
    "    lifetime.append(start_end)\n",
    "    \n",
    "df_summary[\"lifetime\"] = lifetime"
   ]
  },
  {
   "cell_type": "code",
   "execution_count": null,
   "metadata": {},
   "outputs": [],
   "source": [
    "time_intervals = [\"0{}:00:00\".format(i) if i < 10 else \"{}:00:00\".format(i) for i in range(24)] + [\"23:59:59\"]\n",
    "\n",
    "tweet_count_labels = [\"tweet_count_{}{}\".format(i, i + 1) for i in range(24)]\n",
    "\n",
    "for num, label in enumerate(tweet_count_labels):\n",
    "    df_summary[label] = [df[(df.time.between(time_intervals[num], time_intervals[num + 1])) & (df.trend == trend)].shape[0] for trend in df_summary.trend]"
   ]
  },
  {
   "cell_type": "code",
   "execution_count": null,
   "metadata": {},
   "outputs": [],
   "source": [
    "tweet_vel_labels = [\"tweet_vel_{}{}\".format(i, i + 1) for i in range(24)]\n",
    "\n",
    "velocidades = []\n",
    "for i in range(df_summary.shape[0]):\n",
    "    counts = [0] + list(df_summary.loc[i, tweet_count_labels])\n",
    "    vel = [counts[i] - counts[i - 1] for i in range(1, len(counts))]\n",
    "    velocidades.append(vel)\n",
    "    \n",
    "velocidades = np.array(velocidades)\n",
    "\n",
    "df_summary = pd.concat([df_summary, pd.DataFrame(velocidades, columns = tweet_vel_labels)], axis = 1)"
   ]
  },
  {
   "cell_type": "code",
   "execution_count": null,
   "metadata": {},
   "outputs": [],
   "source": [
    "tweet_acl_labels = [\"tweet_acl_{}{}\".format(i, i + 1) for i in range(24)]\n",
    "\n",
    "aceleraciones = []\n",
    "for i in range(df_summary.shape[0]):\n",
    "    counts = [0] + list(df_summary.loc[i, tweet_vel_labels])\n",
    "    acl = [counts[i] - counts[i - 1] for i in range(1, len(counts))]\n",
    "    aceleraciones.append(acl)\n",
    "    \n",
    "aceleraciones = np.array(aceleraciones)\n",
    "\n",
    "df_summary = pd.concat([df_summary, pd.DataFrame(aceleraciones, columns = tweet_acl_labels)], axis = 1)"
   ]
  },
  {
   "cell_type": "code",
   "execution_count": null,
   "metadata": {},
   "outputs": [],
   "source": [
    "user_count_labels = [\"user_count_{}{}\".format(i, i + 1) for i in range(24)]\n",
    "\n",
    "for num, label in enumerate(user_count_labels):\n",
    "    df_summary[label] = [df[(df.time.between(time_intervals[num], time_intervals[num + 1])) & (df.trend == trend)].username.unique().shape[0] for trend in df_summary.trend]"
   ]
  },
  {
   "cell_type": "code",
   "execution_count": null,
   "metadata": {},
   "outputs": [],
   "source": [
    "df_summary.to_csv(\"tweets_25_tendencia_variables.csv\", sep = \";\", index = False)"
   ]
  },
  {
   "cell_type": "code",
   "execution_count": null,
   "metadata": {},
   "outputs": [],
   "source": []
  }
 ],
 "metadata": {
  "kernelspec": {
   "display_name": "Python 3",
   "language": "python",
   "name": "python3"
  },
  "language_info": {
   "codemirror_mode": {
    "name": "ipython",
    "version": 3
   },
   "file_extension": ".py",
   "mimetype": "text/x-python",
   "name": "python",
   "nbconvert_exporter": "python",
   "pygments_lexer": "ipython3",
   "version": "3.7.6"
  }
 },
 "nbformat": 4,
 "nbformat_minor": 4
}
