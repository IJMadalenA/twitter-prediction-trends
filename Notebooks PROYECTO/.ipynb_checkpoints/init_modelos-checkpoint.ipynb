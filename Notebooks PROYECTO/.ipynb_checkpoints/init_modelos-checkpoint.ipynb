{
 "cells": [
  {
   "cell_type": "code",
   "execution_count": 1,
   "metadata": {},
   "outputs": [],
   "source": [
    "import pandas as pd\n",
    "#Basics\n",
    "import pandas as pd\n",
    "import numpy as np\n",
    "import os\n",
    "import random\n",
    "from time import sleep, strftime\n",
    "import re\n",
    "from matplotlib import pyplot as plt\n",
    "#Preprocessing\n",
    "from sklearn.feature_extraction.text import CountVectorizer\n",
    "from sklearn.feature_extraction.text import TfidfTransformer\n",
    "from sklearn.decomposition import PCA\n",
    "\n",
    "#Regression\n",
    "from sklearn.linear_model import LogisticRegression\n",
    "from sklearn.ensemble import RandomForestClassifier\n",
    "from sklearn.tree import DecisionTreeClassifier\n",
    "from sklearn.naive_bayes import GaussianNB\n",
    "from sklearn.pipeline import Pipeline\n",
    "from sklearn.neighbors import KNeighborsClassifier\n",
    "from sklearn.gaussian_process import GaussianProcessClassifier\n",
    "from sklearn import svm\n",
    "#import xgboost as xgb\n",
    "\n",
    "#Report\n",
    "from sklearn.metrics import classification_report\n",
    "\n",
    "#Validation\n",
    "from sklearn.model_selection import train_test_split\n",
    "from sklearn.model_selection import cross_val_score\n",
    "\n",
    "#Metrics\n",
    "from sklearn.metrics import confusion_matrix\n",
    "from sklearn.metrics import accuracy_score\n",
    "from sklearn import metrics"
   ]
  },
  {
   "cell_type": "code",
   "execution_count": 2,
   "metadata": {},
   "outputs": [],
   "source": [
    "df24=pd.read_csv('/Users/pilarlorenteconesa/Desktop/DEFINITIVOS/Q1Q3_tweets_24_tendencias_variables.csv', sep=';')"
   ]
  },
  {
   "cell_type": "code",
   "execution_count": 3,
   "metadata": {},
   "outputs": [],
   "source": [
    "df24n=pd.read_csv('/Users/pilarlorenteconesa/Desktop/DEFINITIVOS/Q3_tweets_24_notendencias_variables.csv', sep=';')"
   ]
  },
  {
   "cell_type": "code",
   "execution_count": 4,
   "metadata": {},
   "outputs": [],
   "source": [
    "df25=pd.read_csv('/Users/pilarlorenteconesa/Desktop/DEFINITIVOS/Q1Q3_tweets_25_tendencias_variables.csv', sep=';')"
   ]
  },
  {
   "cell_type": "code",
   "execution_count": 5,
   "metadata": {},
   "outputs": [],
   "source": [
    "df25n=pd.read_csv('/Users/pilarlorenteconesa/Desktop/DEFINITIVOS/Q3_tweets_25_notendencias_variables_2.csv', sep=';')"
   ]
  },
  {
   "cell_type": "code",
   "execution_count": 6,
   "metadata": {},
   "outputs": [],
   "source": [
    "del(df24n['Unnamed: 0'])\n",
    "del(df24['Unnamed: 0'])\n",
    "del(df25n['Unnamed: 0'])\n",
    "del(df25['Unnamed: 0'])"
   ]
  },
  {
   "cell_type": "code",
   "execution_count": 7,
   "metadata": {},
   "outputs": [],
   "source": [
    "df24['target']=1\n",
    "df24n['target']=0\n",
    "df25['target']=1\n",
    "df25n['target']=0"
   ]
  },
  {
   "cell_type": "code",
   "execution_count": 8,
   "metadata": {},
   "outputs": [],
   "source": [
    "df_train=pd.concat([df24,df24n])"
   ]
  },
  {
   "cell_type": "code",
   "execution_count": 9,
   "metadata": {},
   "outputs": [],
   "source": [
    "del(df_train['start_lifetime'])"
   ]
  },
  {
   "cell_type": "code",
   "execution_count": 11,
   "metadata": {},
   "outputs": [],
   "source": [
    "X=df_train.iloc[:,2:-1].values\n",
    "y=df_train.iloc[:, -1].values"
   ]
  },
  {
   "cell_type": "code",
   "execution_count": 12,
   "metadata": {},
   "outputs": [],
   "source": [
    "df_test=pd.concat([df25,df25n])"
   ]
  },
  {
   "cell_type": "code",
   "execution_count": 13,
   "metadata": {},
   "outputs": [],
   "source": [
    "del(df_test['start_lifetime'])"
   ]
  },
  {
   "cell_type": "code",
   "execution_count": 14,
   "metadata": {},
   "outputs": [
    {
     "data": {
      "text/html": [
       "<div>\n",
       "<style scoped>\n",
       "    .dataframe tbody tr th:only-of-type {\n",
       "        vertical-align: middle;\n",
       "    }\n",
       "\n",
       "    .dataframe tbody tr th {\n",
       "        vertical-align: top;\n",
       "    }\n",
       "\n",
       "    .dataframe thead th {\n",
       "        text-align: right;\n",
       "    }\n",
       "</style>\n",
       "<table border=\"1\" class=\"dataframe\">\n",
       "  <thead>\n",
       "    <tr style=\"text-align: right;\">\n",
       "      <th></th>\n",
       "      <th>trend</th>\n",
       "      <th>hour</th>\n",
       "      <th>total_tweets</th>\n",
       "      <th>total_hashtags</th>\n",
       "      <th>total_mentions</th>\n",
       "      <th>total_reply_to</th>\n",
       "      <th>total_url</th>\n",
       "      <th>total_photo</th>\n",
       "      <th>total_retweets</th>\n",
       "      <th>total_likes</th>\n",
       "      <th>...</th>\n",
       "      <th>tweet_acc_56</th>\n",
       "      <th>tweet_acc_67</th>\n",
       "      <th>user_count_01</th>\n",
       "      <th>user_count_12</th>\n",
       "      <th>user_count_23</th>\n",
       "      <th>user_count_34</th>\n",
       "      <th>user_count_45</th>\n",
       "      <th>user_count_56</th>\n",
       "      <th>user_count_67</th>\n",
       "      <th>target</th>\n",
       "    </tr>\n",
       "  </thead>\n",
       "  <tbody>\n",
       "    <tr>\n",
       "      <th>0</th>\n",
       "      <td>#AndaSeatEnFnac</td>\n",
       "      <td>8.0</td>\n",
       "      <td>247</td>\n",
       "      <td>1151</td>\n",
       "      <td>279</td>\n",
       "      <td>309</td>\n",
       "      <td>63</td>\n",
       "      <td>140</td>\n",
       "      <td>1050.0</td>\n",
       "      <td>3877.0</td>\n",
       "      <td>...</td>\n",
       "      <td>62</td>\n",
       "      <td>52</td>\n",
       "      <td>13</td>\n",
       "      <td>20</td>\n",
       "      <td>36</td>\n",
       "      <td>44</td>\n",
       "      <td>25</td>\n",
       "      <td>44</td>\n",
       "      <td>122</td>\n",
       "      <td>1</td>\n",
       "    </tr>\n",
       "    <tr>\n",
       "      <th>1</th>\n",
       "      <td>#Askelarre</td>\n",
       "      <td>8.0</td>\n",
       "      <td>239</td>\n",
       "      <td>249</td>\n",
       "      <td>270</td>\n",
       "      <td>363</td>\n",
       "      <td>18</td>\n",
       "      <td>22</td>\n",
       "      <td>273.0</td>\n",
       "      <td>1026.0</td>\n",
       "      <td>...</td>\n",
       "      <td>-25</td>\n",
       "      <td>-9</td>\n",
       "      <td>0</td>\n",
       "      <td>48</td>\n",
       "      <td>72</td>\n",
       "      <td>59</td>\n",
       "      <td>64</td>\n",
       "      <td>51</td>\n",
       "      <td>49</td>\n",
       "      <td>1</td>\n",
       "    </tr>\n",
       "    <tr>\n",
       "      <th>2</th>\n",
       "      <td>#BTSonFallon</td>\n",
       "      <td>6.0</td>\n",
       "      <td>145</td>\n",
       "      <td>162</td>\n",
       "      <td>150</td>\n",
       "      <td>156</td>\n",
       "      <td>8</td>\n",
       "      <td>20</td>\n",
       "      <td>260.0</td>\n",
       "      <td>2668.0</td>\n",
       "      <td>...</td>\n",
       "      <td>-109</td>\n",
       "      <td>45</td>\n",
       "      <td>0</td>\n",
       "      <td>0</td>\n",
       "      <td>4</td>\n",
       "      <td>80</td>\n",
       "      <td>113</td>\n",
       "      <td>47</td>\n",
       "      <td>18</td>\n",
       "      <td>1</td>\n",
       "    </tr>\n",
       "    <tr>\n",
       "      <th>3</th>\n",
       "      <td>#BTSonFallon</td>\n",
       "      <td>9.0</td>\n",
       "      <td>1588</td>\n",
       "      <td>1682</td>\n",
       "      <td>1687</td>\n",
       "      <td>2918</td>\n",
       "      <td>76</td>\n",
       "      <td>124</td>\n",
       "      <td>2152.0</td>\n",
       "      <td>8423.0</td>\n",
       "      <td>...</td>\n",
       "      <td>-153</td>\n",
       "      <td>24</td>\n",
       "      <td>1</td>\n",
       "      <td>324</td>\n",
       "      <td>572</td>\n",
       "      <td>522</td>\n",
       "      <td>510</td>\n",
       "      <td>385</td>\n",
       "      <td>247</td>\n",
       "      <td>1</td>\n",
       "    </tr>\n",
       "    <tr>\n",
       "      <th>4</th>\n",
       "      <td>#BTSonFallon</td>\n",
       "      <td>12.0</td>\n",
       "      <td>330</td>\n",
       "      <td>378</td>\n",
       "      <td>351</td>\n",
       "      <td>505</td>\n",
       "      <td>79</td>\n",
       "      <td>41</td>\n",
       "      <td>476.0</td>\n",
       "      <td>2574.0</td>\n",
       "      <td>...</td>\n",
       "      <td>-2</td>\n",
       "      <td>-22</td>\n",
       "      <td>1</td>\n",
       "      <td>93</td>\n",
       "      <td>147</td>\n",
       "      <td>102</td>\n",
       "      <td>97</td>\n",
       "      <td>91</td>\n",
       "      <td>69</td>\n",
       "      <td>1</td>\n",
       "    </tr>\n",
       "    <tr>\n",
       "      <th>...</th>\n",
       "      <td>...</td>\n",
       "      <td>...</td>\n",
       "      <td>...</td>\n",
       "      <td>...</td>\n",
       "      <td>...</td>\n",
       "      <td>...</td>\n",
       "      <td>...</td>\n",
       "      <td>...</td>\n",
       "      <td>...</td>\n",
       "      <td>...</td>\n",
       "      <td>...</td>\n",
       "      <td>...</td>\n",
       "      <td>...</td>\n",
       "      <td>...</td>\n",
       "      <td>...</td>\n",
       "      <td>...</td>\n",
       "      <td>...</td>\n",
       "      <td>...</td>\n",
       "      <td>...</td>\n",
       "      <td>...</td>\n",
       "      <td>...</td>\n",
       "    </tr>\n",
       "    <tr>\n",
       "      <th>655</th>\n",
       "      <td>#cuidadospaliativos</td>\n",
       "      <td>NaN</td>\n",
       "      <td>1054</td>\n",
       "      <td>1054</td>\n",
       "      <td>1083</td>\n",
       "      <td>1261</td>\n",
       "      <td>45</td>\n",
       "      <td>58</td>\n",
       "      <td>2759.0</td>\n",
       "      <td>26208.0</td>\n",
       "      <td>...</td>\n",
       "      <td>580</td>\n",
       "      <td>-106</td>\n",
       "      <td>0</td>\n",
       "      <td>0</td>\n",
       "      <td>0</td>\n",
       "      <td>0</td>\n",
       "      <td>0</td>\n",
       "      <td>537</td>\n",
       "      <td>981</td>\n",
       "      <td>0</td>\n",
       "    </tr>\n",
       "    <tr>\n",
       "      <th>656</th>\n",
       "      <td>#esadnorte</td>\n",
       "      <td>NaN</td>\n",
       "      <td>1643</td>\n",
       "      <td>1643</td>\n",
       "      <td>1662</td>\n",
       "      <td>1916</td>\n",
       "      <td>24</td>\n",
       "      <td>38</td>\n",
       "      <td>1702.0</td>\n",
       "      <td>18546.0</td>\n",
       "      <td>...</td>\n",
       "      <td>870</td>\n",
       "      <td>-97</td>\n",
       "      <td>0</td>\n",
       "      <td>0</td>\n",
       "      <td>0</td>\n",
       "      <td>0</td>\n",
       "      <td>0</td>\n",
       "      <td>789</td>\n",
       "      <td>1478</td>\n",
       "      <td>0</td>\n",
       "    </tr>\n",
       "    <tr>\n",
       "      <th>657</th>\n",
       "      <td>#innerashes</td>\n",
       "      <td>NaN</td>\n",
       "      <td>2366</td>\n",
       "      <td>2366</td>\n",
       "      <td>2429</td>\n",
       "      <td>2969</td>\n",
       "      <td>92</td>\n",
       "      <td>198</td>\n",
       "      <td>2091.0</td>\n",
       "      <td>34923.0</td>\n",
       "      <td>...</td>\n",
       "      <td>12</td>\n",
       "      <td>-46</td>\n",
       "      <td>0</td>\n",
       "      <td>0</td>\n",
       "      <td>415</td>\n",
       "      <td>838</td>\n",
       "      <td>880</td>\n",
       "      <td>905</td>\n",
       "      <td>919</td>\n",
       "      <td>0</td>\n",
       "    </tr>\n",
       "    <tr>\n",
       "      <th>658</th>\n",
       "      <td>#iheartawards</td>\n",
       "      <td>NaN</td>\n",
       "      <td>2694</td>\n",
       "      <td>2694</td>\n",
       "      <td>2925</td>\n",
       "      <td>4139</td>\n",
       "      <td>541</td>\n",
       "      <td>530</td>\n",
       "      <td>12605.0</td>\n",
       "      <td>35090.0</td>\n",
       "      <td>...</td>\n",
       "      <td>-19</td>\n",
       "      <td>-41</td>\n",
       "      <td>377</td>\n",
       "      <td>781</td>\n",
       "      <td>732</td>\n",
       "      <td>661</td>\n",
       "      <td>678</td>\n",
       "      <td>699</td>\n",
       "      <td>687</td>\n",
       "      <td>0</td>\n",
       "    </tr>\n",
       "    <tr>\n",
       "      <th>659</th>\n",
       "      <td>barça</td>\n",
       "      <td>NaN</td>\n",
       "      <td>4712</td>\n",
       "      <td>4712</td>\n",
       "      <td>4887</td>\n",
       "      <td>7127</td>\n",
       "      <td>176</td>\n",
       "      <td>305</td>\n",
       "      <td>9837.0</td>\n",
       "      <td>40043.0</td>\n",
       "      <td>...</td>\n",
       "      <td>4</td>\n",
       "      <td>225</td>\n",
       "      <td>621</td>\n",
       "      <td>1253</td>\n",
       "      <td>1220</td>\n",
       "      <td>1130</td>\n",
       "      <td>1176</td>\n",
       "      <td>1228</td>\n",
       "      <td>1497</td>\n",
       "      <td>0</td>\n",
       "    </tr>\n",
       "  </tbody>\n",
       "</table>\n",
       "<p>1048 rows × 41 columns</p>\n",
       "</div>"
      ],
      "text/plain": [
       "                   trend  hour  total_tweets  total_hashtags  total_mentions  \\\n",
       "0        #AndaSeatEnFnac   8.0           247            1151             279   \n",
       "1             #Askelarre   8.0           239             249             270   \n",
       "2           #BTSonFallon   6.0           145             162             150   \n",
       "3           #BTSonFallon   9.0          1588            1682            1687   \n",
       "4           #BTSonFallon  12.0           330             378             351   \n",
       "..                   ...   ...           ...             ...             ...   \n",
       "655  #cuidadospaliativos   NaN          1054            1054            1083   \n",
       "656           #esadnorte   NaN          1643            1643            1662   \n",
       "657          #innerashes   NaN          2366            2366            2429   \n",
       "658        #iheartawards   NaN          2694            2694            2925   \n",
       "659                barça   NaN          4712            4712            4887   \n",
       "\n",
       "     total_reply_to  total_url  total_photo  total_retweets  total_likes  ...  \\\n",
       "0               309         63          140          1050.0       3877.0  ...   \n",
       "1               363         18           22           273.0       1026.0  ...   \n",
       "2               156          8           20           260.0       2668.0  ...   \n",
       "3              2918         76          124          2152.0       8423.0  ...   \n",
       "4               505         79           41           476.0       2574.0  ...   \n",
       "..              ...        ...          ...             ...          ...  ...   \n",
       "655            1261         45           58          2759.0      26208.0  ...   \n",
       "656            1916         24           38          1702.0      18546.0  ...   \n",
       "657            2969         92          198          2091.0      34923.0  ...   \n",
       "658            4139        541          530         12605.0      35090.0  ...   \n",
       "659            7127        176          305          9837.0      40043.0  ...   \n",
       "\n",
       "     tweet_acc_56  tweet_acc_67  user_count_01  user_count_12  user_count_23  \\\n",
       "0              62            52             13             20             36   \n",
       "1             -25            -9              0             48             72   \n",
       "2            -109            45              0              0              4   \n",
       "3            -153            24              1            324            572   \n",
       "4              -2           -22              1             93            147   \n",
       "..            ...           ...            ...            ...            ...   \n",
       "655           580          -106              0              0              0   \n",
       "656           870           -97              0              0              0   \n",
       "657            12           -46              0              0            415   \n",
       "658           -19           -41            377            781            732   \n",
       "659             4           225            621           1253           1220   \n",
       "\n",
       "     user_count_34  user_count_45  user_count_56  user_count_67  target  \n",
       "0               44             25             44            122       1  \n",
       "1               59             64             51             49       1  \n",
       "2               80            113             47             18       1  \n",
       "3              522            510            385            247       1  \n",
       "4              102             97             91             69       1  \n",
       "..             ...            ...            ...            ...     ...  \n",
       "655              0              0            537            981       0  \n",
       "656              0              0            789           1478       0  \n",
       "657            838            880            905            919       0  \n",
       "658            661            678            699            687       0  \n",
       "659           1130           1176           1228           1497       0  \n",
       "\n",
       "[1048 rows x 41 columns]"
      ]
     },
     "execution_count": 14,
     "metadata": {},
     "output_type": "execute_result"
    }
   ],
   "source": [
    "df_test"
   ]
  },
  {
   "cell_type": "code",
   "execution_count": 19,
   "metadata": {},
   "outputs": [
    {
     "data": {
      "text/plain": [
       "Index(['trend', 'hour', 'total_tweets', 'total_hashtags', 'total_mentions',\n",
       "       'total_reply_to', 'total_url', 'total_photo', 'total_retweets',\n",
       "       'total_likes', 'total_replies', 'total_interaction', 'tweet_count_01',\n",
       "       'tweet_count_12', 'tweet_count_23', 'tweet_count_34', 'tweet_count_45',\n",
       "       'tweet_count_56', 'tweet_count_67', 'tweet_vel_01', 'tweet_vel_12',\n",
       "       'tweet_vel_23', 'tweet_vel_34', 'tweet_vel_45', 'tweet_vel_56',\n",
       "       'tweet_vel_67', 'tweet_acc_01', 'tweet_acc_12', 'tweet_acc_23',\n",
       "       'tweet_acc_34', 'tweet_acc_45', 'tweet_acc_56', 'tweet_acc_67',\n",
       "       'user_count_01', 'user_count_12', 'user_count_23', 'user_count_34',\n",
       "       'user_count_45', 'user_count_56', 'user_count_67', 'target'],\n",
       "      dtype='object')"
      ]
     },
     "execution_count": 19,
     "metadata": {},
     "output_type": "execute_result"
    }
   ],
   "source": [
    "df_test.columns"
   ]
  },
  {
   "cell_type": "code",
   "execution_count": 15,
   "metadata": {},
   "outputs": [],
   "source": [
    "X_test=df_test.iloc[:,2:-1].values\n",
    "y_test=df_test.iloc[:,-1].values"
   ]
  },
  {
   "cell_type": "markdown",
   "metadata": {},
   "source": [
    "# RANDOMFOREST SIN PARÁMETROS"
   ]
  },
  {
   "cell_type": "code",
   "execution_count": 16,
   "metadata": {},
   "outputs": [
    {
     "name": "stdout",
     "output_type": "stream",
     "text": [
      "Accuracy_score: 0.8091603053435115\n",
      "------------------------------------\n",
      "Confusion Matrix:\n",
      " [[512 148]\n",
      " [ 52 336]]\n",
      "------------------------------------------------------\n",
      "              precision    recall  f1-score   support\n",
      "\n",
      "           0       0.91      0.78      0.84       660\n",
      "           1       0.69      0.87      0.77       388\n",
      "\n",
      "    accuracy                           0.81      1048\n",
      "   macro avg       0.80      0.82      0.80      1048\n",
      "weighted avg       0.83      0.81      0.81      1048\n",
      "\n",
      "CPU times: user 228 ms, sys: 6.77 ms, total: 235 ms\n",
      "Wall time: 239 ms\n"
     ]
    }
   ],
   "source": [
    "%%time\n",
    "#RandomForest con ACCURACY,CONFUSION MATRIX y CLASSIFICATION REPORT\n",
    "clf = RandomForestClassifier()\n",
    "clf = clf.fit(X, y)\n",
    "yhat = clf.predict(X_test)\n",
    "print(\"Accuracy_score:\", accuracy_score(y_test, yhat))\n",
    "print('------------------------------------')\n",
    "print(\"Confusion Matrix:\\n\", confusion_matrix(y_test, yhat))\n",
    "print('------------------------------------------------------')\n",
    "print(classification_report(y_test, yhat))"
   ]
  },
  {
   "cell_type": "code",
   "execution_count": 17,
   "metadata": {},
   "outputs": [
    {
     "data": {
      "image/png": "[encoded data removed]",
      "text/plain": [
       "<Figure size 432x288 with 2 Axes>"
      ]
     },
     "metadata": {
      "needs_background": "light"
     },
     "output_type": "display_data"
    }
   ],
   "source": [
    "from sklearn.metrics import plot_confusion_matrix\n",
    "disp = plot_confusion_matrix(clf, X_test, y_test,\n",
    "                             display_labels=[0,1,2],\n",
    "                             cmap=plt.cm.Blues,\n",
    "                             normalize=\"true\")\n",
    "plt.show()"
   ]
  },
  {
   "cell_type": "code",
   "execution_count": 18,
   "metadata": {},
   "outputs": [
    {
     "name": "stdout",
     "output_type": "stream",
     "text": [
      "Area bajo la curva:  0.8889878163074039\n"
     ]
    },
    {
     "data": {
      "image/png": "[encoded data removed]",
      "text/plain": [
       "<Figure size 432x288 with 1 Axes>"
      ]
     },
     "metadata": {
      "needs_background": "light"
     },
     "output_type": "display_data"
    }
   ],
   "source": [
    "from sklearn.metrics import roc_curve\n",
    "from sklearn.metrics import auc\n",
    "probs = clf.predict_proba(X_test)\n",
    "preds = probs[:,1]\n",
    "fpr, tpr, threshold = roc_curve(y_test, preds)\n",
    "roc_auc = auc(fpr, tpr)\n",
    "print(\"Area bajo la curva: \",auc(fpr, tpr))\n",
    "plt.plot(fpr, tpr, 'b', label = 'AUC = %0.2f' % roc_auc)\n",
    "plt.xlim([0, 1])\n",
    "plt.ylim([0, 1])\n",
    "plt.legend()\n",
    "plt.ylabel('Sensibilidad')\n",
    "plt.xlabel('1-Especificidad')\n",
    "plt.show()"
   ]
  },
  {
   "cell_type": "code",
   "execution_count": null,
   "metadata": {},
   "outputs": [],
   "source": [
    "from sklearn.metrics import auc\n",
    "auc(fpr, tpr)\n"
   ]
  },
  {
   "cell_type": "code",
   "execution_count": 20,
   "metadata": {},
   "outputs": [
    {
     "name": "stdout",
     "output_type": "stream",
     "text": [
      "Feature ranking:\n",
      "1. feature 9 (0.090269)\n",
      "2. feature 7 (0.085858)\n",
      "3. feature 6 (0.071541)\n",
      "4. feature 1 (0.062488)\n",
      "5. feature 8 (0.056166)\n",
      "6. feature 36 (0.050112)\n",
      "7. feature 5 (0.046730)\n",
      "8. feature 2 (0.042981)\n",
      "9. feature 4 (0.037042)\n",
      "10. feature 15 (0.034903)\n",
      "11. feature 35 (0.034671)\n",
      "12. feature 37 (0.034125)\n",
      "13. feature 3 (0.031591)\n",
      "14. feature 16 (0.030914)\n",
      "15. feature 0 (0.027799)\n",
      "16. feature 14 (0.024235)\n",
      "17. feature 34 (0.023610)\n",
      "18. feature 13 (0.023562)\n",
      "19. feature 30 (0.016875)\n",
      "20. feature 33 (0.016409)\n",
      "21. feature 22 (0.016314)\n",
      "22. feature 23 (0.016019)\n",
      "23. feature 21 (0.010659)\n",
      "24. feature 32 (0.010267)\n",
      "25. feature 29 (0.010032)\n",
      "26. feature 12 (0.009973)\n",
      "27. feature 11 (0.009662)\n",
      "28. feature 18 (0.009290)\n",
      "29. feature 24 (0.008189)\n",
      "30. feature 31 (0.007677)\n",
      "31. feature 20 (0.007171)\n",
      "32. feature 26 (0.006971)\n",
      "33. feature 28 (0.006858)\n",
      "34. feature 10 (0.006857)\n",
      "35. feature 17 (0.006706)\n",
      "36. feature 19 (0.005893)\n",
      "37. feature 27 (0.005466)\n",
      "38. feature 25 (0.004117)\n"
     ]
    },
    {
     "data": {
      "image/png": "[encoded data removed]",
      "text/plain": [
       "<Figure size 432x288 with 1 Axes>"
      ]
     },
     "metadata": {
      "needs_background": "light"
     },
     "output_type": "display_data"
    }
   ],
   "source": [
    "from sklearn.ensemble import ExtraTreesClassifier\n",
    "\n",
    "# Build a forest and compute the feature importances\n",
    "forest = ExtraTreesClassifier(n_estimators=250,random_state=0)\n",
    "forest.fit(X, y)\n",
    "importances = forest.feature_importances_\n",
    "std = np.std([tree.feature_importances_ for tree in forest.estimators_], axis=0)\n",
    "indices = np.argsort(importances)[::-1]\n",
    "\n",
    "# Print the feature ranking\n",
    "print(\"Feature ranking:\")\n",
    "\n",
    "for f in range(X.shape[1]):\n",
    "    print(\"%d. feature %d (%f)\" % (f + 1, indices[f], importances[indices[f]]))\n",
    "\n",
    "# Plot the feature importances of the forest\n",
    "plt.figure()\n",
    "plt.title(\"Feature importances\")\n",
    "plt.bar(range(X.shape[1]), importances[indices],\n",
    "       color=\"r\", yerr=std[indices], align=\"center\")\n",
    "plt.xticks(range(X.shape[1]), indices)\n",
    "plt.xlim([-1, X.shape[1]])\n",
    "plt.show()"
   ]
  },
  {
   "cell_type": "code",
   "execution_count": 23,
   "metadata": {},
   "outputs": [
    {
     "data": {
      "text/plain": [
       "Index(['trend', 'hour', 'total_tweets', 'total_hashtags', 'total_mentions',\n",
       "       'total_reply_to', 'total_url', 'total_photo', 'total_retweets',\n",
       "       'total_likes', 'total_replies', 'total_interaction', 'tweet_count_01',\n",
       "       'tweet_count_12', 'tweet_count_23', 'tweet_count_34', 'tweet_count_45',\n",
       "       'tweet_count_56', 'tweet_count_67', 'tweet_vel_01', 'tweet_vel_12',\n",
       "       'tweet_vel_23', 'tweet_vel_34', 'tweet_vel_45', 'tweet_vel_56',\n",
       "       'tweet_vel_67', 'tweet_acc_01', 'tweet_acc_12', 'tweet_acc_23',\n",
       "       'tweet_acc_34', 'tweet_acc_45', 'tweet_acc_56', 'tweet_acc_67',\n",
       "       'user_count_01', 'user_count_12', 'user_count_23', 'user_count_34',\n",
       "       'user_count_45', 'user_count_56', 'user_count_67', 'target'],\n",
       "      dtype='object')"
      ]
     },
     "execution_count": 23,
     "metadata": {},
     "output_type": "execute_result"
    }
   ],
   "source": [
    "df_train.columns"
   ]
  },
  {
   "cell_type": "code",
   "execution_count": null,
   "metadata": {},
   "outputs": [],
   "source": []
  }
 ],
 "metadata": {
  "kernelspec": {
   "display_name": "Python 3",
   "language": "python",
   "name": "python3"
  },
  "language_info": {
   "codemirror_mode": {
    "name": "ipython",
    "version": 3
   },
   "file_extension": ".py",
   "mimetype": "text/x-python",
   "name": "python",
   "nbconvert_exporter": "python",
   "pygments_lexer": "ipython3",
   "version": "3.7.6"
  }
 },
 "nbformat": 4,
 "nbformat_minor": 4
}
