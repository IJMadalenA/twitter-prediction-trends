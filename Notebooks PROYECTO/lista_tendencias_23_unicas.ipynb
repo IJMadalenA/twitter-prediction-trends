{
 "cells": [
  {
   "cell_type": "code",
   "execution_count": 1,
   "metadata": {},
   "outputs": [],
   "source": [
    "import pandas as pd"
   ]
  },
  {
   "cell_type": "code",
   "execution_count": 2,
   "metadata": {},
   "outputs": [],
   "source": [
    "tendencias = list()\n",
    "with open(\"C:/Users/Daniel/Desktop/tendencias 23 unicas.txt\", \"r\") as f:\n",
    "    tendencias.extend(f.readlines())"
   ]
  },
  {
   "cell_type": "code",
   "execution_count": 4,
   "metadata": {},
   "outputs": [],
   "source": [
    "tendencias = [t.strip(\"\\n, \\t\") for t in tendencias]"
   ]
  },
  {
   "cell_type": "code",
   "execution_count": 10,
   "metadata": {},
   "outputs": [],
   "source": [
    "df_t = pd.DataFrame(tendencias, columns = [\"trend\"])\n",
    "df_t = df_t.trend.unique()\n",
    "df_t = pd.DataFrame(df_t, columns = [\"trend\"])\n",
    "df_t.to_csv(\"lista_trend_23.csv\", sep = \";\", index = False)"
   ]
  }
 ],
 "metadata": {
  "kernelspec": {
   "display_name": "Python 3",
   "language": "python",
   "name": "python3"
  },
  "language_info": {
   "codemirror_mode": {
    "name": "ipython",
    "version": 3
   },
   "file_extension": ".py",
   "mimetype": "text/x-python",
   "name": "python",
   "nbconvert_exporter": "python",
   "pygments_lexer": "ipython3",
   "version": "3.7.6"
  }
 },
 "nbformat": 4,
 "nbformat_minor": 4
}
