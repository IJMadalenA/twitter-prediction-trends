{
 "cells": [
  {
   "cell_type": "code",
   "execution_count": 1,
   "metadata": {},
   "outputs": [],
   "source": [
    "#Basics\n",
    "import numpy as np\n",
    "import pandas as pd\n",
    "import matplotlib.pyplot as plt\n",
    "import seaborn as sns\n",
    "\n",
    "#Preprocessing\n",
    "from sklearn.preprocessing import StandardScaler\n",
    "\n",
    "#Classifiers\n",
    "from sklearn.linear_model import LogisticRegression\n",
    "from sklearn.ensemble import RandomForestClassifier\n",
    "from sklearn.tree import DecisionTreeClassifier\n",
    "from sklearn.naive_bayes import GaussianNB\n",
    "from sklearn.neighbors import KNeighborsClassifier\n",
    "from sklearn.gaussian_process import GaussianProcessClassifier\n",
    "\n",
    "from sklearn import svm\n",
    "import xgboost as xgb\n",
    "\n",
    "#Report\n",
    "from sklearn.metrics import classification_report\n",
    "\n",
    "#Validation\n",
    "from sklearn.model_selection import GridSearchCV\n",
    "\n",
    "#Metrics\n",
    "from sklearn.metrics import confusion_matrix\n",
    "from sklearn.metrics import accuracy_score\n",
    "from sklearn.metrics import precision_score\n",
    "from sklearn.metrics import recall_score\n",
    "from sklearn.metrics import f1_score\n",
    "from sklearn.metrics import roc_curve\n",
    "from sklearn.metrics import auc\n",
    "from sklearn.metrics import plot_confusion_matrix"
   ]
  },
  {
   "cell_type": "code",
   "execution_count": 2,
   "metadata": {},
   "outputs": [],
   "source": [
    "#Cargamos y leemos el csv\n",
    "\n",
    "df1 = pd.read_csv(\"C:/Users/Daniel/Documents/GitHub/SuperProyecto/Notebooks PROYECTO/csv definitivos/Q3_tweets_24_notendencias_variables.csv\", sep = \";\")\n",
    "df2 = pd.read_csv(\"C:/Users/Daniel/Documents/GitHub/SuperProyecto/Notebooks PROYECTO/csv definitivos/Q3_tweets_25_notendencias_variables.csv\", sep = \";\")\n",
    "df3 = pd.read_csv(\"C:/Users/Daniel/Documents/GitHub/SuperProyecto/Notebooks PROYECTO/csv definitivos/Q1Q3_tweets_24_tendencias_variables.csv\", sep = \";\")\n",
    "df4 = pd.read_csv(\"C:/Users/Daniel/Documents/GitHub/SuperProyecto/Notebooks PROYECTO/csv definitivos/Q1Q3_tweets_25_tendencias_variables.csv\", sep = \";\")\n",
    "\n",
    "df1[\"target\"] = 0\n",
    "df2[\"target\"] = 0\n",
    "df3[\"target\"] = 1\n",
    "df4[\"target\"] = 1\n",
    "\n",
    "del(df1[\"Unnamed: 0\"])\n",
    "del(df2[\"Unnamed: 0\"])\n",
    "del(df3[\"Unnamed: 0\"])\n",
    "del(df4[\"Unnamed: 0\"])"
   ]
  },
  {
   "cell_type": "code",
   "execution_count": 3,
   "metadata": {},
   "outputs": [],
   "source": [
    "df_train = pd.concat([df1, df3])\n",
    "df_test = pd.concat([df2, df4])\n",
    "\n",
    "df_train.drop(\"start_lifetime\", axis = 1, inplace = True)\n",
    "df_test.drop(\"start_lifetime\", axis = 1, inplace = True)"
   ]
  },
  {
   "cell_type": "code",
   "execution_count": 4,
   "metadata": {},
   "outputs": [],
   "source": [
    "#Obtenemos train\n",
    "X = np.asarray(df_train.iloc[:,2:-2])\n",
    "y = np.asarray(df_train.target)\n",
    "\n",
    "#Obtenemos test\n",
    "X_test = df_test.iloc[:, 2:-2]\n",
    "y_test = df_test.target"
   ]
  },
  {
   "cell_type": "code",
   "execution_count": 5,
   "metadata": {},
   "outputs": [],
   "source": [
    "#Estandarizamos los datos\n",
    "scaler = StandardScaler()\n",
    "\n",
    "scaler.fit(X)\n",
    "X = scaler.transform(X)\n",
    "X_test = scaler.transform(X_test)"
   ]
  },
  {
   "cell_type": "code",
   "execution_count": 6,
   "metadata": {},
   "outputs": [],
   "source": [
    "df_metrics = pd.DataFrame(columns = [\"Model\", \"Accuracy\", \"Precision\", \"Recall\", \"F1-Score\", \"AUC\"])"
   ]
  },
  {
   "cell_type": "markdown",
   "metadata": {},
   "source": [
    "# RandomForestClassifier()"
   ]
  },
  {
   "cell_type": "code",
   "execution_count": 7,
   "metadata": {
    "jupyter": {
     "outputs_hidden": true
    }
   },
   "outputs": [
    {
     "name": "stdout",
     "output_type": "stream",
     "text": [
      "Fitting 3 folds for each of 864 candidates, totalling 2592 fits\n"
     ]
    },
    {
     "name": "stderr",
     "output_type": "stream",
     "text": [
      "[Parallel(n_jobs=-1)]: Using backend LokyBackend with 4 concurrent workers.\n",
      "[Parallel(n_jobs=-1)]: Done  33 tasks      | elapsed:   38.6s\n",
      "[Parallel(n_jobs=-1)]: Done 154 tasks      | elapsed:  2.5min\n",
      "[Parallel(n_jobs=-1)]: Done 357 tasks      | elapsed:  6.7min\n",
      "[Parallel(n_jobs=-1)]: Done 640 tasks      | elapsed: 10.8min\n",
      "[Parallel(n_jobs=-1)]: Done 1005 tasks      | elapsed: 16.0min\n",
      "[Parallel(n_jobs=-1)]: Done 1450 tasks      | elapsed: 22.1min\n",
      "[Parallel(n_jobs=-1)]: Done 1977 tasks      | elapsed: 28.9min\n",
      "[Parallel(n_jobs=-1)]: Done 2584 tasks      | elapsed: 36.8min\n",
      "[Parallel(n_jobs=-1)]: Done 2592 out of 2592 | elapsed: 36.9min finished\n"
     ]
    },
    {
     "name": "stdout",
     "output_type": "stream",
     "text": [
      "Accuracy_score: 0.8072519083969466\n",
      "------------------------------------\n",
      "Confusion Matrix:\n",
      " [[511 149]\n",
      " [ 53 335]]\n",
      "------------------------------------------------------\n",
      "              precision    recall  f1-score   support\n",
      "\n",
      "           0       0.91      0.77      0.83       660\n",
      "           1       0.69      0.86      0.77       388\n",
      "\n",
      "    accuracy                           0.81      1048\n",
      "   macro avg       0.80      0.82      0.80      1048\n",
      "weighted avg       0.83      0.81      0.81      1048\n",
      "\n"
     ]
    },
    {
     "data": {
      "image/png": "[encoded data removed]",
      "text/plain": [
       "<Figure size 432x288 with 2 Axes>"
      ]
     },
     "metadata": {
      "needs_background": "light"
     },
     "output_type": "display_data"
    },
    {
     "name": "stdout",
     "output_type": "stream",
     "text": [
      "Area bajo la curva:  0.8903389565760699\n"
     ]
    },
    {
     "data": {
      "image/png": "[encoded data removed]",
      "text/plain": [
       "<Figure size 432x288 with 1 Axes>"
      ]
     },
     "metadata": {
      "needs_background": "light"
     },
     "output_type": "display_data"
    }
   ],
   "source": [
    "#Calculamos los mejores parametros para el modelo\n",
    "clf = RandomForestClassifier()\n",
    "clfparam_grid = {\"bootstrap\"         : [True, False],\n",
    "                 \"max_depth\"         : [10, 20, 30, 40, 50, 60, 70, None],\n",
    "                 \"max_features\"      : [\"auto\", \"sqrt\"],\n",
    "                 \"min_samples_leaf\"  : [1, 2, 4],\n",
    "                 \"min_samples_split\" : [2, 5, 10],\n",
    "                 \"n_estimators\"      : [200, 400, 600]}\n",
    "\n",
    "clf_search = GridSearchCV(clf, param_grid = clfparam_grid, cv = 3, verbose = 2, n_jobs = -1)\n",
    " \n",
    "model_result = clf_search.fit(X, y)\n",
    "best_model = model_result.best_estimator_\n",
    "final_model = best_model.fit(X,y)\n",
    "yhat = final_model.predict(X_test)\n",
    "\n",
    "print(\"Accuracy_score:\", accuracy_score(y_test, yhat))\n",
    "print(\"------------------------------------\")\n",
    "print(\"Confusion Matrix:\\n\", confusion_matrix(y_test, yhat))\n",
    "print(\"------------------------------------------------------\")\n",
    "print(classification_report(y_test, yhat))\n",
    "\n",
    "probs = final_model.predict_proba(X_test)\n",
    "preds = probs[:,1]\n",
    "fpr, tpr, threshold = roc_curve(y_test, preds)\n",
    "roc_auc = auc(fpr, tpr)\n",
    "\n",
    "row = {\"Model\"     : \"RandomForestClassifier\",\n",
    "       \"Accuracy\"  : round(accuracy_score(y_test, yhat), 3),\n",
    "       \"F1-Score\"  : round(f1_score(y_test,yhat), 3),\n",
    "       \"Precision\" : round(precision_score(y_test, yhat), 3),\n",
    "       \"Recall\"    : round(recall_score(y_test, yhat), 3),\n",
    "       \"AUC\"       : round(roc_auc, 3)}\n",
    "\n",
    "df_metrics = pd.concat([df_metrics, pd.DataFrame(row, index = [0])])\n",
    "\n",
    "\n",
    "# Confussion Matrix\n",
    "disp = plot_confusion_matrix(final_model, X_test, y_test,\n",
    "                             display_labels=[\"NT\", \"T\"],\n",
    "                             cmap = plt.cm.Blues,\n",
    "                             normalize = \"true\")\n",
    "plt.show()\n",
    "\n",
    "# Curva ROC\n",
    "probs = final_model.predict_proba(X_test)\n",
    "preds = probs[:,1]\n",
    "fpr, tpr, threshold = roc_curve(y_test, preds)\n",
    "roc_auc = auc(fpr, tpr)\n",
    "print(\"Area bajo la curva: \",auc(fpr, tpr))\n",
    "plt.plot(fpr, tpr, \"b\", label = \"AUC = %0.2f\" % roc_auc)\n",
    "plt.xlim([0, 1])\n",
    "plt.ylim([0, 1])\n",
    "plt.legend()\n",
    "plt.ylabel(\"Sensibilidad\")\n",
    "plt.xlabel(\"1-Especificidad\")\n",
    "plt.show()"
   ]
  },
  {
   "cell_type": "markdown",
   "metadata": {},
   "source": [
    "# LogisticRegression()"
   ]
  },
  {
   "cell_type": "code",
   "execution_count": 8,
   "metadata": {
    "jupyter": {
     "outputs_hidden": true
    }
   },
   "outputs": [
    {
     "ename": "AttributeError",
     "evalue": "'GridSearchCV' object has no attribute 'best_score_'",
     "output_type": "error",
     "traceback": [
      "\u001b[1;31m---------------------------------------------------------------------------\u001b[0m",
      "\u001b[1;31mAttributeError\u001b[0m                            Traceback (most recent call last)",
      "\u001b[1;32m<ipython-input-8-da9c0aa94a1d>\u001b[0m in \u001b[0;36m<module>\u001b[1;34m\u001b[0m\n\u001b[0;32m      8\u001b[0m \u001b[0mclf_search\u001b[0m \u001b[1;33m=\u001b[0m \u001b[0mGridSearchCV\u001b[0m\u001b[1;33m(\u001b[0m\u001b[0mclf\u001b[0m\u001b[1;33m,\u001b[0m \u001b[0mparam_grid\u001b[0m \u001b[1;33m=\u001b[0m \u001b[0mclfparam_grid\u001b[0m\u001b[1;33m,\u001b[0m \u001b[0mrefit\u001b[0m \u001b[1;33m=\u001b[0m \u001b[1;32mTrue\u001b[0m\u001b[1;33m,\u001b[0m \u001b[0mverbose\u001b[0m \u001b[1;33m=\u001b[0m \u001b[1;36m3\u001b[0m\u001b[1;33m,\u001b[0m \u001b[0mcv\u001b[0m \u001b[1;33m=\u001b[0m \u001b[1;36m5\u001b[0m\u001b[1;33m)\u001b[0m\u001b[1;33m\u001b[0m\u001b[1;33m\u001b[0m\u001b[0m\n\u001b[0;32m      9\u001b[0m \u001b[1;33m\u001b[0m\u001b[0m\n\u001b[1;32m---> 10\u001b[1;33m \u001b[0mprint\u001b[0m\u001b[1;33m(\u001b[0m\u001b[1;34m\"Mean Accuracy: %.3f\"\u001b[0m \u001b[1;33m%\u001b[0m \u001b[0mclf_search\u001b[0m\u001b[1;33m.\u001b[0m\u001b[0mbest_score_\u001b[0m\u001b[1;33m)\u001b[0m\u001b[1;33m\u001b[0m\u001b[1;33m\u001b[0m\u001b[0m\n\u001b[0m\u001b[0;32m     11\u001b[0m \u001b[0mprint\u001b[0m\u001b[1;33m(\u001b[0m\u001b[1;34m\"Config: %s\"\u001b[0m \u001b[1;33m%\u001b[0m \u001b[0mclf_search\u001b[0m\u001b[1;33m.\u001b[0m\u001b[0mbest_params_\u001b[0m\u001b[1;33m)\u001b[0m\u001b[1;33m\u001b[0m\u001b[1;33m\u001b[0m\u001b[0m\n\u001b[0;32m     12\u001b[0m \u001b[1;33m\u001b[0m\u001b[0m\n",
      "\u001b[1;31mAttributeError\u001b[0m: 'GridSearchCV' object has no attribute 'best_score_'"
     ]
    }
   ],
   "source": [
    "#Calculamos los mejores parametros para el modelo\n",
    "clf = LogisticRegression()\n",
    "clfparam_grid = {\"C\"        : [0.001, 0.01, 0.1, 1, 10, 100, 1000],\n",
    "                 \"penalty\"  : [\"l1\", \"l2\"],\n",
    "                 \"max_iter\" : list(range(100,800,100)),\n",
    "                 \"solver\"   : [\"newton-cg\", \"lbfgs\", \"liblinear\", \"sag\", \"saga\"]}\n",
    "\n",
    "clf_search = GridSearchCV(clf, param_grid = clfparam_grid, refit = True, verbose = 3, cv = 5)\n",
    "\n",
    "print(\"Mean Accuracy: %.3f\" % clf_search.best_score_)\n",
    "print(\"Config: %s\" % clf_search.best_params_)\n",
    "\n",
    "\n",
    "model_result = clf_search.fit(X, y)\n",
    "best_model = model_result.best_estimator_\n",
    "final_model = best_model.fit(X,y)\n",
    "yhat = final_model.predict(X_test)\n",
    "\n",
    "print(\"Accuracy_score:\", accuracy_score(y_test, yhat))\n",
    "print(\"------------------------------------\")\n",
    "print(\"Confusion Matrix:\\n\", confusion_matrix(y_test, yhat))\n",
    "print(\"------------------------------------------------------\")\n",
    "print(classification_report(y_test, yhat))\n",
    "\n",
    "probs = final_model.predict_proba(X_test)\n",
    "preds = probs[:,1]\n",
    "fpr, tpr, threshold = roc_curve(y_test, preds)\n",
    "roc_auc = auc(fpr, tpr)\n",
    "\n",
    "row = {\"Model\"     : \"LogisticRegression\",\n",
    "       \"Accuracy\"  : round(accuracy_score(y_test, yhat), 3),\n",
    "       \"F1-Score\"  : round(f1_score(y_test,yhat), 3),\n",
    "       \"Precision\" : round(precision_score(y_test, yhat), 3),\n",
    "       \"Recall\"    : round(recall_score(y_test, yhat), 3),\n",
    "       \"AUC\"       : round(roc_auc, 3)}\n",
    "\n",
    "df_metrics = pd.concat([df_metrics, pd.DataFrame(row, index = [0])])\n",
    "\n",
    "\n",
    "# Confussion Matrix\n",
    "disp = plot_confusion_matrix(final_model, X_test, y_test,\n",
    "                             display_labels=[\"NT\", \"T\"],\n",
    "                             cmap = plt.cm.Blues,\n",
    "                             normalize = \"true\")\n",
    "plt.show()\n",
    "\n",
    "# Curva ROC\n",
    "probs = final_model.predict_proba(X_test)\n",
    "preds = probs[:,1]\n",
    "fpr, tpr, threshold = roc_curve(y_test, preds)\n",
    "roc_auc = auc(fpr, tpr)\n",
    "print(\"Area bajo la curva: \",auc(fpr, tpr))\n",
    "plt.plot(fpr, tpr, \"b\", label = \"AUC = %0.2f\" % roc_auc)\n",
    "plt.xlim([0, 1])\n",
    "plt.ylim([0, 1])\n",
    "plt.legend()\n",
    "plt.ylabel(\"Sensibilidad\")\n",
    "plt.xlabel(\"1-Especificidad\")\n",
    "plt.show()"
   ]
  },
  {
   "cell_type": "markdown",
   "metadata": {},
   "source": [
    "# GaussianNB()"
   ]
  },
  {
   "cell_type": "code",
   "execution_count": null,
   "metadata": {},
   "outputs": [],
   "source": [
    "#Calculamos los mejores parametros para el modelo\n",
    "clf = GaussianNB()\n",
    "clfparam_grid = {\"var_smoothing\" : np.logspace(0, -9, num = 100)}\n",
    "clf_search = GridSearchCV(clf, param_grid = clfparam_grid, cv = 5, verbose = 1)\n",
    "\n",
    "\n",
    "model_result = clf_search.fit(X, y)\n",
    "best_model = model_result.best_estimator_\n",
    "final_model = best_model.fit(X,y)\n",
    "yhat = final_model.predict(X_test)\n",
    "\n",
    "print(\"Accuracy_score:\", accuracy_score(y_test, yhat))\n",
    "print(\"------------------------------------\")\n",
    "print(\"Confusion Matrix:\\n\", confusion_matrix(y_test, yhat))\n",
    "print(\"------------------------------------------------------\")\n",
    "print(classification_report(y_test, yhat))\n",
    "\n",
    "probs = final_model.predict_proba(X_test)\n",
    "preds = probs[:,1]\n",
    "fpr, tpr, threshold = roc_curve(y_test, preds)\n",
    "roc_auc = auc(fpr, tpr)\n",
    "\n",
    "row = {\"Model\"     : \"GaussianNB\",\n",
    "       \"Accuracy\"  : round(accuracy_score(y_test, yhat), 3),\n",
    "       \"F1-Score\"  : round(f1_score(y_test,yhat), 3),\n",
    "       \"Precision\" : round(precision_score(y_test, yhat), 3),\n",
    "       \"Recall\"    : round(recall_score(y_test, yhat), 3),\n",
    "       \"AUC\"       : round(roc_auc, 3)}\n",
    "\n",
    "df_metrics = pd.concat([df_metrics, pd.DataFrame(row, index = [0])])\n",
    "\n",
    "\n",
    "# Confussion Matrix\n",
    "disp = plot_confusion_matrix(final_model, X_test, y_test,\n",
    "                             display_labels=[\"NT\", \"T\"],\n",
    "                             cmap = plt.cm.Blues,\n",
    "                             normalize = \"true\")\n",
    "plt.show()\n",
    "\n",
    "# Curva ROC\n",
    "probs = final_model.predict_proba(X_test)\n",
    "preds = probs[:,1]\n",
    "fpr, tpr, threshold = roc_curve(y_test, preds)\n",
    "roc_auc = auc(fpr, tpr)\n",
    "print(\"Area bajo la curva: \",auc(fpr, tpr))\n",
    "plt.plot(fpr, tpr, \"b\", label = \"AUC = %0.2f\" % roc_auc)\n",
    "plt.xlim([0, 1])\n",
    "plt.ylim([0, 1])\n",
    "plt.legend()\n",
    "plt.ylabel(\"Sensibilidad\")\n",
    "plt.xlabel(\"1-Especificidad\")\n",
    "plt.show()"
   ]
  },
  {
   "cell_type": "markdown",
   "metadata": {},
   "source": [
    "# KNeighborsClassifier()\n"
   ]
  },
  {
   "cell_type": "code",
   "execution_count": null,
   "metadata": {},
   "outputs": [],
   "source": [
    "#Calculamos los mejores parametros para el modelo\n",
    "clf = KNeighborsClassifier()\n",
    "clfparam_grid = {\"n_neighbors\": [3,4,5,6,10],\n",
    "                 \"weights\"    : [\"uniform\", \"distance\"],\n",
    "                 \"metric\"     : [\"euclidean\", \"manhattan\"]}\n",
    "\n",
    "clf_search = GridSearchCV(clf, param_grid = clfparam_grid, verbose = 1, cv = 3, n_jobs = -1 )\n",
    "\n",
    "model_result = clf_search.fit(X, y)\n",
    "best_model = model_result.best_estimator_\n",
    "final_model = best_model.fit(X,y)\n",
    "yhat = final_model.predict(X_test)\n",
    "\n",
    "print(\"Accuracy_score:\", accuracy_score(y_test, yhat))\n",
    "print(\"------------------------------------\")\n",
    "print(\"Confusion Matrix:\\n\", confusion_matrix(y_test, yhat))\n",
    "print(\"------------------------------------------------------\")\n",
    "print(classification_report(y_test, yhat))\n",
    "\n",
    "probs = cfinal_modellf.predict_proba(X_test)\n",
    "preds = probs[:,1]\n",
    "fpr, tpr, threshold = roc_curve(y_test, preds)\n",
    "roc_auc = auc(fpr, tpr)\n",
    "\n",
    "row = {\"Model\"     : \"KNeighborsClassifier\",\n",
    "       \"Accuracy\"  : round(accuracy_score(y_test, yhat), 3),\n",
    "       \"F1-Score\"  : round(f1_score(y_test,yhat), 3),\n",
    "       \"Precision\" : round(precision_score(y_test, yhat), 3),\n",
    "       \"Recall\"    : round(recall_score(y_test, yhat), 3),\n",
    "       \"AUC\"       : round(roc_auc, 3)}\n",
    "\n",
    "df_metrics = pd.concat([df_metrics, pd.DataFrame(row, index = [0])])\n",
    "\n",
    "\n",
    "# Confussion Matrix\n",
    "disp = plot_confusion_matrix(final_model, X_test, y_test,\n",
    "                             display_labels=[\"NT\", \"T\"],\n",
    "                             cmap = plt.cm.Blues,\n",
    "                             normalize = \"true\")\n",
    "plt.show()\n",
    "\n",
    "# Curva ROC\n",
    "probs = final_model.predict_proba(X_test)\n",
    "preds = probs[:,1]\n",
    "fpr, tpr, threshold = roc_curve(y_test, preds)\n",
    "roc_auc = auc(fpr, tpr)\n",
    "print(\"Area bajo la curva: \",auc(fpr, tpr))\n",
    "plt.plot(fpr, tpr, \"b\", label = \"AUC = %0.2f\" % roc_auc)\n",
    "plt.xlim([0, 1])\n",
    "plt.ylim([0, 1])\n",
    "plt.legend()\n",
    "plt.ylabel(\"Sensibilidad\")\n",
    "plt.xlabel(\"1-Especificidad\")\n",
    "plt.show()"
   ]
  },
  {
   "cell_type": "markdown",
   "metadata": {},
   "source": [
    "# DecisionTreeClassifier()"
   ]
  },
  {
   "cell_type": "code",
   "execution_count": null,
   "metadata": {},
   "outputs": [],
   "source": [
    "#Calculamos los mejores parametros para el modelo\n",
    "clf = DecisionTreeClassifier()\n",
    "clfparam_grid = {\"criterion\" : [\"gini\", \"entropy\"],\n",
    "                 \"max_depth\" : [2,4,6,8,10,12]}\n",
    "\n",
    "clf_search = GridSearchCV(clf, param_grid = clfparam_grid, refit = True, verbose = 3, cv=5)\n",
    "\n",
    " \n",
    "model_result = clf_search.fit(X, y)\n",
    "best_model = model_result.best_estimator_\n",
    "final_model = best_model.fit(X,y)\n",
    "yhat = final_model.predict(X_test)\n",
    "\n",
    "print(\"Accuracy_score:\", accuracy_score(y_test, yhat))\n",
    "print(\"------------------------------------\")\n",
    "print(\"Confusion Matrix:\\n\", confusion_matrix(y_test, yhat))\n",
    "print(\"------------------------------------------------------\")\n",
    "print(classification_report(y_test, yhat))\n",
    "\n",
    "probs = final_model.predict_proba(X_test)\n",
    "preds = probs[:,1]\n",
    "fpr, tpr, threshold = roc_curve(y_test, preds)\n",
    "roc_auc = auc(fpr, tpr)\n",
    "\n",
    "row = {\"Model\"     : \"DecisionTreeClassifier\",\n",
    "       \"Accuracy\"  : round(accuracy_score(y_test, yhat), 3),\n",
    "       \"F1-Score\"  : round(f1_score(y_test,yhat), 3),\n",
    "       \"Precision\" : round(precision_score(y_test, yhat), 3),\n",
    "       \"Recall\"    : round(recall_score(y_test, yhat), 3),\n",
    "       \"AUC\"       : round(roc_auc, 3)}\n",
    "\n",
    "df_metrics = pd.concat([df_metrics, pd.DataFrame(row, index = [0])])\n",
    "\n",
    "# Confussion Matrix\n",
    "disp = plot_confusion_matrix(final_model, X_test, y_test,\n",
    "                             display_labels=[\"NT\", \"T\"],\n",
    "                             cmap = plt.cm.Blues,\n",
    "                             normalize = \"true\")\n",
    "plt.show()\n",
    "\n",
    "# Curva ROC\n",
    "probs = final_model.predict_proba(X_test)\n",
    "preds = probs[:,1]\n",
    "fpr, tpr, threshold = roc_curve(y_test, preds)\n",
    "roc_auc = auc(fpr, tpr)\n",
    "print(\"Area bajo la curva: \",auc(fpr, tpr))\n",
    "plt.plot(fpr, tpr, \"b\", label = \"AUC = %0.2f\" % roc_auc)\n",
    "plt.xlim([0, 1])\n",
    "plt.ylim([0, 1])\n",
    "plt.legend()\n",
    "plt.ylabel(\"Sensibilidad\")\n",
    "plt.xlabel(\"1-Especificidad\")\n",
    "plt.show()"
   ]
  },
  {
   "cell_type": "markdown",
   "metadata": {},
   "source": [
    "# SVM"
   ]
  },
  {
   "cell_type": "code",
   "execution_count": null,
   "metadata": {},
   "outputs": [],
   "source": [
    "#Calculamos los mejores parametros para el modelo\n",
    "clf = svm.SVC()\n",
    "clfparam_grid = {\"C\"           : [5, 10, 15],\n",
    "                 \"gamma\"       : [\"auto\", 0.001, 0.00001, 0.000001],\n",
    "                 \"kernel\"      : [\"rbf\", \"poly\", \"linear\"],\n",
    "                 \"shrinking\"   : [True, False],\n",
    "                 \"probability\" : [True, False]}\n",
    "\n",
    "clf_search = GridSearchCV(clf, param_grid = clfparam_grid, refit = True, verbose = 3, cv = 5, n_jobs = -1)\n",
    "\n",
    "model_result = clf_search.fit(X, y)\n",
    "best_model = model_result.best_estimator_\n",
    "final_model = best_model.fit(X,y)\n",
    "yhat = final_model.predict(X_test)\n",
    "\n",
    "print(\"Accuracy_score:\", accuracy_score(y_test, yhat))\n",
    "print(\"------------------------------------\")\n",
    "print(\"Confusion Matrix:\\n\", confusion_matrix(y_test, yhat))\n",
    "print(\"------------------------------------------------------\")\n",
    "print(classification_report(y_test, yhat))\n",
    "\n",
    "probs = final_model.predict_proba(X_test)\n",
    "preds = probs[:,1]\n",
    "fpr, tpr, threshold = roc_curve(y_test, preds)\n",
    "roc_auc = auc(fpr, tpr)\n",
    "\n",
    "row = {\"Model\"     : \"SVM (Classifier)\",\n",
    "       \"Accuracy\"  : round(accuracy_score(y_test, yhat), 3),\n",
    "       \"F1-Score\"  : round(f1_score(y_test,yhat), 3),\n",
    "       \"Precision\" : round(precision_score(y_test, yhat), 3),\n",
    "       \"Recall\"    : round(recall_score(y_test, yhat), 3),\n",
    "       \"AUC\"       : round(roc_auc, 3)}\n",
    "\n",
    "df_metrics = pd.concat([df_metrics, pd.DataFrame(row, index = [0])])\n",
    "\n",
    "# Confussion Matrix\n",
    "disp = plot_confusion_matrix(final_model, X_test, y_test,\n",
    "                             display_labels=[\"NT\", \"T\"],\n",
    "                             cmap = plt.cm.Blues,\n",
    "                             normalize = \"true\")\n",
    "plt.show()\n",
    "\n",
    "# Curva ROC\n",
    "probs = final_model.predict_proba(X_test)\n",
    "preds = probs[:,1]\n",
    "fpr, tpr, threshold = roc_curve(y_test, preds)\n",
    "roc_auc = auc(fpr, tpr)\n",
    "print(\"Area bajo la curva: \",auc(fpr, tpr))\n",
    "plt.plot(fpr, tpr, \"b\", label = \"AUC = %0.2f\" % roc_auc)\n",
    "plt.xlim([0, 1])\n",
    "plt.ylim([0, 1])\n",
    "plt.legend()\n",
    "plt.ylabel(\"Sensibilidad\")\n",
    "plt.xlabel(\"1-Especificidad\")\n",
    "plt.show()"
   ]
  },
  {
   "cell_type": "code",
   "execution_count": null,
   "metadata": {},
   "outputs": [],
   "source": [
    "df_metrics"
   ]
  },
  {
   "cell_type": "code",
   "execution_count": null,
   "metadata": {},
   "outputs": [],
   "source": [
    "#df_metrics.to_csv(\"metricas_modelos.csv\", sep = \";\", index = False)"
   ]
  }
 ],
 "metadata": {
  "kernelspec": {
   "display_name": "Python 3",
   "language": "python",
   "name": "python3"
  },
  "language_info": {
   "codemirror_mode": {
    "name": "ipython",
    "version": 3
   },
   "file_extension": ".py",
   "mimetype": "text/x-python",
   "name": "python",
   "nbconvert_exporter": "python",
   "pygments_lexer": "ipython3",
   "version": "3.7.6"
  }
 },
 "nbformat": 4,
 "nbformat_minor": 4
}
