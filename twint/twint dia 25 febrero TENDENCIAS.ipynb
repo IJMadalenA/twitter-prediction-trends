{
 "cells": [
  {
   "cell_type": "code",
   "execution_count": 1,
   "metadata": {},
   "outputs": [],
   "source": [
    "import os\n",
    "import twint\n",
    "import nest_asyncio\n",
    "import pandas as pd\n",
    "\n",
    "nest_asyncio.apply()"
   ]
  },
  {
   "cell_type": "code",
   "execution_count": 2,
   "metadata": {},
   "outputs": [],
   "source": [
    "df = pd.read_csv(\"C:/Users/Daniel/Desktop/25Ftendencias.csv\")"
   ]
  },
  {
   "cell_type": "code",
   "execution_count": null,
   "metadata": {},
   "outputs": [],
   "source": [
    "os.chdir(\"C:/Users/Daniel/Desktop/tendencias 25 daniel\")\n",
    "\n",
    "tendencias = list(df.trend.iloc[174:261])\n",
    "for trend in tendencias:\n",
    "    c = twint.Config()\n",
    "    c.Search = trend\n",
    "    c.Since = \"2020-02-24 23:00:01\"\n",
    "    c.Until = \"2020-02-25 23:00:01\"\n",
    "    c.Store_csv = True\n",
    "    c.Output = \"{}.csv\".format(trend)\n",
    "    twint.run.Search(c)"
   ]
  }
 ],
 "metadata": {
  "kernelspec": {
   "display_name": "Python 3",
   "language": "python",
   "name": "python3"
  },
  "language_info": {
   "codemirror_mode": {
    "name": "ipython",
    "version": 3
   },
   "file_extension": ".py",
   "mimetype": "text/x-python",
   "name": "python",
   "nbconvert_exporter": "python",
   "pygments_lexer": "ipython3",
   "version": "3.7.6"
  }
 },
 "nbformat": 4,
 "nbformat_minor": 4
}
