{
 "cells": [
  {
   "cell_type": "code",
   "execution_count": 1,
   "metadata": {},
   "outputs": [],
   "source": [
    "import os\n",
    "import twint\n",
    "import nest_asyncio\n",
    "import pandas as pd\n",
    "\n",
    "nest_asyncio.apply()"
   ]
  },
  {
   "cell_type": "code",
   "execution_count": 3,
   "metadata": {},
   "outputs": [],
   "source": [
    "tendencias = []\n",
    "with open(\"C:/Users/Daniel/Desktop\\csv/dia 25/trends/dia 25 tendencias.txt\", \"r\", encoding = \"UTF-8\") as f:\n",
    "    tendencias.extend(f.readlines())\n",
    "    \n",
    "tendencias = [t.strip(\"\\t\").strip(\"\\n\") for t in tendencias]\n",
    "tendencias = [t.strip(\"\\n\").strip(\"\\t\") for t in tendencias]\n",
    "\n",
    "df = pd.DataFrame(tendencias, columns = [\"trends\"])\n",
    "df = df.trends.unique()\n",
    "df = pd.DataFrame(df, columns = [\"trends\"])\n",
    "\n",
    "tendencias = list(df.trends)"
   ]
  },
  {
   "cell_type": "code",
   "execution_count": 5,
   "metadata": {},
   "outputs": [],
   "source": [
    "os.chdir(\"C:/Users/Daniel/Desktop/tendencias 25 daniel\")"
   ]
  },
  {
   "cell_type": "code",
   "execution_count": null,
   "metadata": {},
   "outputs": [],
   "source": [
    "for trend in tendencias:\n",
    "    c = twint.Config()\n",
    "    c.Search = trend\n",
    "    c.Since = \"2020-02-24 23:00:01\"\n",
    "    c.Until = \"2020-02-25 23:00:01\"\n",
    "    c.Store_csv = True\n",
    "    c.Output = \"{}.csv\".format(trend)\n",
    "    twint.run.Search(c)"
   ]
  }
 ],
 "metadata": {
  "kernelspec": {
   "display_name": "Python 3",
   "language": "python",
   "name": "python3"
  },
  "language_info": {
   "codemirror_mode": {
    "name": "ipython",
    "version": 3
   },
   "file_extension": ".py",
   "mimetype": "text/x-python",
   "name": "python",
   "nbconvert_exporter": "python",
   "pygments_lexer": "ipython3",
   "version": "3.7.6"
  }
 },
 "nbformat": 4,
 "nbformat_minor": 4
}
