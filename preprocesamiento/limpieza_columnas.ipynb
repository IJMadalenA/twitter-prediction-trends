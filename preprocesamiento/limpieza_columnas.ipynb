{
 "cells": [
  {
   "cell_type": "code",
   "execution_count": 1,
   "metadata": {},
   "outputs": [],
   "source": [
    "import pandas as pd\n",
    "import json\n",
    "\n",
    "from datetime import datetime"
   ]
  },
  {
   "cell_type": "code",
   "execution_count": 2,
   "metadata": {},
   "outputs": [
    {
     "name": "stderr",
     "output_type": "stream",
     "text": [
      "<string>:2: DtypeWarning: Columns (9) have mixed types.Specify dtype option on import or set low_memory=False.\n"
     ]
    },
    {
     "name": "stdout",
     "output_type": "stream",
     "text": [
      "Wall time: 2min 36s\n"
     ]
    }
   ],
   "source": [
    "%%time\n",
    "df = pd.read_csv(\"C:/Users/Daniel/Desktop/proyecto/notebooks/ya en github/twint + trends_marzo/trends_marzo.csv\", \n",
    "                 sep = \";\")"
   ]
  },
  {
   "cell_type": "code",
   "execution_count": 3,
   "metadata": {},
   "outputs": [
    {
     "name": "stdout",
     "output_type": "stream",
     "text": [
      "<class 'pandas.core.frame.DataFrame'>\n",
      "RangeIndex: 4618317 entries, 0 to 4618316\n",
      "Data columns (total 37 columns):\n",
      " #   Column           Dtype  \n",
      "---  ------           -----  \n",
      " 0   id               int64  \n",
      " 1   conversation_id  int64  \n",
      " 2   created_at       object \n",
      " 3   date             object \n",
      " 4   time             object \n",
      " 5   timezone         int64  \n",
      " 6   user_id          int64  \n",
      " 7   username         object \n",
      " 8   name             object \n",
      " 9   place            object \n",
      " 10  tweet            object \n",
      " 11  language         object \n",
      " 12  mentions         object \n",
      " 13  urls             object \n",
      " 14  photos           object \n",
      " 15  replies_count    int64  \n",
      " 16  retweets_count   int64  \n",
      " 17  likes_count      int64  \n",
      " 18  hashtags         object \n",
      " 19  cashtags         object \n",
      " 20  link             object \n",
      " 21  retweet          bool   \n",
      " 22  quote_url        object \n",
      " 23  video            int64  \n",
      " 24  thumbnail        object \n",
      " 25  near             float64\n",
      " 26  geo              float64\n",
      " 27  source           float64\n",
      " 28  user_rt_id       float64\n",
      " 29  user_rt          float64\n",
      " 30  retweet_id       float64\n",
      " 31  reply_to         object \n",
      " 32  retweet_date     float64\n",
      " 33  translate        float64\n",
      " 34  trans_src        float64\n",
      " 35  trans_dest       float64\n",
      " 36  trend            object \n",
      "dtypes: bool(1), float64(10), int64(8), object(18)\n",
      "memory usage: 1.2+ GB\n"
     ]
    }
   ],
   "source": [
    "df.info()"
   ]
  },
  {
   "cell_type": "code",
   "execution_count": 4,
   "metadata": {},
   "outputs": [
    {
     "data": {
      "text/plain": [
       "Index(['id', 'conversation_id', 'created_at', 'date', 'time', 'timezone',\n",
       "       'user_id', 'username', 'name', 'place', 'tweet', 'language', 'mentions',\n",
       "       'urls', 'photos', 'replies_count', 'retweets_count', 'likes_count',\n",
       "       'hashtags', 'cashtags', 'link', 'retweet', 'quote_url', 'video',\n",
       "       'thumbnail', 'near', 'geo', 'source', 'user_rt_id', 'user_rt',\n",
       "       'retweet_id', 'reply_to', 'retweet_date', 'translate', 'trans_src',\n",
       "       'trans_dest', 'trend'],\n",
       "      dtype='object')"
      ]
     },
     "execution_count": 4,
     "metadata": {},
     "output_type": "execute_result"
    }
   ],
   "source": [
    "df.columns"
   ]
  },
  {
   "cell_type": "code",
   "execution_count": 5,
   "metadata": {},
   "outputs": [],
   "source": [
    "columns_to_drop = [\"conversation_id\",\"cashtags\", \"timezone\", \"user_id\", \"name\", \"near\", \"geo\", \"source\",\n",
    "                   \"user_rt_id\", \"user_rt\", \"retweet_id\", \"retweet_date\", \"translate\", \"trans_src\",\n",
    "                   \"trans_dest\", \"place\", \"quote_url\", \"thumbnail\", \"created_at\", \"id\", \"link\"]\n",
    "\n",
    "df.drop(columns_to_drop, axis = 1, inplace = True)\n",
    "\n",
    "df = df[df.language == \"es\"]\n",
    "\n",
    "df.drop(\"language\", axis = 1, inplace = True)\n",
    "\n",
    "df = df.reset_index().drop(\"index\", axis = 1)"
   ]
  },
  {
   "cell_type": "code",
   "execution_count": 6,
   "metadata": {},
   "outputs": [
    {
     "data": {
      "text/html": [
       "<div>\n",
       "<style scoped>\n",
       "    .dataframe tbody tr th:only-of-type {\n",
       "        vertical-align: middle;\n",
       "    }\n",
       "\n",
       "    .dataframe tbody tr th {\n",
       "        vertical-align: top;\n",
       "    }\n",
       "\n",
       "    .dataframe thead th {\n",
       "        text-align: right;\n",
       "    }\n",
       "</style>\n",
       "<table border=\"1\" class=\"dataframe\">\n",
       "  <thead>\n",
       "    <tr style=\"text-align: right;\">\n",
       "      <th></th>\n",
       "      <th>date</th>\n",
       "      <th>time</th>\n",
       "      <th>username</th>\n",
       "      <th>tweet</th>\n",
       "      <th>mentions</th>\n",
       "      <th>urls</th>\n",
       "      <th>photos</th>\n",
       "      <th>replies_count</th>\n",
       "      <th>retweets_count</th>\n",
       "      <th>likes_count</th>\n",
       "      <th>hashtags</th>\n",
       "      <th>retweet</th>\n",
       "      <th>video</th>\n",
       "      <th>reply_to</th>\n",
       "      <th>trend</th>\n",
       "    </tr>\n",
       "  </thead>\n",
       "  <tbody>\n",
       "    <tr>\n",
       "      <th>0</th>\n",
       "      <td>2020-03-12</td>\n",
       "      <td>00:58:27</td>\n",
       "      <td>4wheelshop4x4</td>\n",
       "      <td>Prepárate para Descubrir esta Noche un Vehícul...</td>\n",
       "      <td>[{'screen_name': '4wheelshop4x4', 'name': '4 w...</td>\n",
       "      <td>['https://youtu.be/nswBAt8pF8U']</td>\n",
       "      <td>['https://pbs.twimg.com/media/ES3e2-cXYAAyCmb....</td>\n",
       "      <td>0</td>\n",
       "      <td>0</td>\n",
       "      <td>0</td>\n",
       "      <td>['11m2020', 'motor', 'pureperformance']</td>\n",
       "      <td>False</td>\n",
       "      <td>1</td>\n",
       "      <td>[]</td>\n",
       "      <td>#11M2020</td>\n",
       "    </tr>\n",
       "    <tr>\n",
       "      <th>1</th>\n",
       "      <td>2020-03-11</td>\n",
       "      <td>23:24:24</td>\n",
       "      <td>arishkkacaro</td>\n",
       "      <td>@T13 @Rodrigo40946868 Creo que quieren ver ard...</td>\n",
       "      <td>[]</td>\n",
       "      <td>[]</td>\n",
       "      <td>[]</td>\n",
       "      <td>0</td>\n",
       "      <td>0</td>\n",
       "      <td>0</td>\n",
       "      <td>['11m2020', 'elpeorpresidentedelahistoria']</td>\n",
       "      <td>False</td>\n",
       "      <td>0</td>\n",
       "      <td>[{'screen_name': 'T13', 'name': 'T13', 'id': '...</td>\n",
       "      <td>#11M2020</td>\n",
       "    </tr>\n",
       "    <tr>\n",
       "      <th>2</th>\n",
       "      <td>2020-03-11</td>\n",
       "      <td>23:22:23</td>\n",
       "      <td>m_ontoba</td>\n",
       "      <td>@JuegaMundoplay @wastewin7 @iloveclicks 🙏🏻 tri...</td>\n",
       "      <td>[]</td>\n",
       "      <td>[]</td>\n",
       "      <td>[]</td>\n",
       "      <td>0</td>\n",
       "      <td>0</td>\n",
       "      <td>3</td>\n",
       "      <td>['11m2020']</td>\n",
       "      <td>False</td>\n",
       "      <td>0</td>\n",
       "      <td>[{'screen_name': 'JuegaMundoplay', 'name': 'Mu...</td>\n",
       "      <td>#11M2020</td>\n",
       "    </tr>\n",
       "    <tr>\n",
       "      <th>3</th>\n",
       "      <td>2020-03-11</td>\n",
       "      <td>23:12:20</td>\n",
       "      <td>silviavazquez</td>\n",
       "      <td>Ya han pasado #16años de ese trágico y fatídic...</td>\n",
       "      <td>[]</td>\n",
       "      <td>[]</td>\n",
       "      <td>['https://pbs.twimg.com/media/ES3GscyXQAAdEOy....</td>\n",
       "      <td>0</td>\n",
       "      <td>16</td>\n",
       "      <td>5</td>\n",
       "      <td>['16años', 'noolvidamos', 'niolvidamosniperdon...</td>\n",
       "      <td>False</td>\n",
       "      <td>1</td>\n",
       "      <td>[]</td>\n",
       "      <td>#11M2020</td>\n",
       "    </tr>\n",
       "    <tr>\n",
       "      <th>4</th>\n",
       "      <td>2020-03-11</td>\n",
       "      <td>22:55:30</td>\n",
       "      <td>mikesupertramp_</td>\n",
       "      <td>Literalmente en Stgo esta la pura caga #11M2020</td>\n",
       "      <td>[]</td>\n",
       "      <td>[]</td>\n",
       "      <td>[]</td>\n",
       "      <td>0</td>\n",
       "      <td>0</td>\n",
       "      <td>0</td>\n",
       "      <td>['11m2020']</td>\n",
       "      <td>False</td>\n",
       "      <td>0</td>\n",
       "      <td>[]</td>\n",
       "      <td>#11M2020</td>\n",
       "    </tr>\n",
       "  </tbody>\n",
       "</table>\n",
       "</div>"
      ],
      "text/plain": [
       "         date      time         username  \\\n",
       "0  2020-03-12  00:58:27    4wheelshop4x4   \n",
       "1  2020-03-11  23:24:24     arishkkacaro   \n",
       "2  2020-03-11  23:22:23         m_ontoba   \n",
       "3  2020-03-11  23:12:20    silviavazquez   \n",
       "4  2020-03-11  22:55:30  mikesupertramp_   \n",
       "\n",
       "                                               tweet  \\\n",
       "0  Prepárate para Descubrir esta Noche un Vehícul...   \n",
       "1  @T13 @Rodrigo40946868 Creo que quieren ver ard...   \n",
       "2  @JuegaMundoplay @wastewin7 @iloveclicks 🙏🏻 tri...   \n",
       "3  Ya han pasado #16años de ese trágico y fatídic...   \n",
       "4    Literalmente en Stgo esta la pura caga #11M2020   \n",
       "\n",
       "                                            mentions  \\\n",
       "0  [{'screen_name': '4wheelshop4x4', 'name': '4 w...   \n",
       "1                                                 []   \n",
       "2                                                 []   \n",
       "3                                                 []   \n",
       "4                                                 []   \n",
       "\n",
       "                               urls  \\\n",
       "0  ['https://youtu.be/nswBAt8pF8U']   \n",
       "1                                []   \n",
       "2                                []   \n",
       "3                                []   \n",
       "4                                []   \n",
       "\n",
       "                                              photos  replies_count  \\\n",
       "0  ['https://pbs.twimg.com/media/ES3e2-cXYAAyCmb....              0   \n",
       "1                                                 []              0   \n",
       "2                                                 []              0   \n",
       "3  ['https://pbs.twimg.com/media/ES3GscyXQAAdEOy....              0   \n",
       "4                                                 []              0   \n",
       "\n",
       "   retweets_count  likes_count  \\\n",
       "0               0            0   \n",
       "1               0            0   \n",
       "2               0            3   \n",
       "3              16            5   \n",
       "4               0            0   \n",
       "\n",
       "                                            hashtags  retweet  video  \\\n",
       "0            ['11m2020', 'motor', 'pureperformance']    False      1   \n",
       "1        ['11m2020', 'elpeorpresidentedelahistoria']    False      0   \n",
       "2                                        ['11m2020']    False      0   \n",
       "3  ['16años', 'noolvidamos', 'niolvidamosniperdon...    False      1   \n",
       "4                                        ['11m2020']    False      0   \n",
       "\n",
       "                                            reply_to     trend  \n",
       "0                                                 []  #11M2020  \n",
       "1  [{'screen_name': 'T13', 'name': 'T13', 'id': '...  #11M2020  \n",
       "2  [{'screen_name': 'JuegaMundoplay', 'name': 'Mu...  #11M2020  \n",
       "3                                                 []  #11M2020  \n",
       "4                                                 []  #11M2020  "
      ]
     },
     "execution_count": 6,
     "metadata": {},
     "output_type": "execute_result"
    }
   ],
   "source": [
    "df.head()"
   ]
  },
  {
   "cell_type": "code",
   "execution_count": 7,
   "metadata": {},
   "outputs": [
    {
     "name": "stdout",
     "output_type": "stream",
     "text": [
      "<class 'pandas.core.frame.DataFrame'>\n",
      "RangeIndex: 2074410 entries, 0 to 2074409\n",
      "Data columns (total 15 columns):\n",
      " #   Column          Dtype \n",
      "---  ------          ----- \n",
      " 0   date            object\n",
      " 1   time            object\n",
      " 2   username        object\n",
      " 3   tweet           object\n",
      " 4   mentions        object\n",
      " 5   urls            object\n",
      " 6   photos          object\n",
      " 7   replies_count   int64 \n",
      " 8   retweets_count  int64 \n",
      " 9   likes_count     int64 \n",
      " 10  hashtags        object\n",
      " 11  retweet         bool  \n",
      " 12  video           int64 \n",
      " 13  reply_to        object\n",
      " 14  trend           object\n",
      "dtypes: bool(1), int64(4), object(10)\n",
      "memory usage: 223.5+ MB\n"
     ]
    }
   ],
   "source": [
    "df.info()"
   ]
  },
  {
   "cell_type": "code",
   "execution_count": 8,
   "metadata": {},
   "outputs": [
    {
     "data": {
      "text/plain": [
       "Index([], dtype='object')"
      ]
     },
     "execution_count": 8,
     "metadata": {},
     "output_type": "execute_result"
    }
   ],
   "source": [
    "df.columns[df.isna().all()]"
   ]
  },
  {
   "cell_type": "code",
   "execution_count": 9,
   "metadata": {},
   "outputs": [],
   "source": [
    "df.photos = df.photos.apply(lambda x : 1 if x != \"[]\" else 0)"
   ]
  },
  {
   "cell_type": "code",
   "execution_count": 10,
   "metadata": {},
   "outputs": [],
   "source": [
    "df.retweet = df.retweet.apply(lambda x : 1 if x == \"True\" else 0)"
   ]
  },
  {
   "cell_type": "code",
   "execution_count": 11,
   "metadata": {},
   "outputs": [],
   "source": [
    "df.urls = df.urls.apply(lambda x : 1 if x != \"[]\" else 0)"
   ]
  },
  {
   "cell_type": "code",
   "execution_count": 12,
   "metadata": {},
   "outputs": [
    {
     "name": "stdout",
     "output_type": "stream",
     "text": [
      "Wall time: 1min 49s\n"
     ]
    }
   ],
   "source": [
    "%%time\n",
    "df.date = df.date.apply(lambda x : datetime.strptime(x, \"%Y-%m-%d\"))"
   ]
  },
  {
   "cell_type": "code",
   "execution_count": 13,
   "metadata": {},
   "outputs": [
    {
     "name": "stdout",
     "output_type": "stream",
     "text": [
      "Wall time: 1min 57s\n"
     ]
    }
   ],
   "source": [
    "%%time\n",
    "df.time = df.time.apply(lambda x : datetime.strptime(x, \"%H:%M:%S\"))"
   ]
  },
  {
   "cell_type": "code",
   "execution_count": 14,
   "metadata": {},
   "outputs": [],
   "source": [
    "for col in df.columns:\n",
    "    if df[col].dtype == \"int64\":\n",
    "        df[col] = df[col].astype(\"int32\")"
   ]
  },
  {
   "cell_type": "code",
   "execution_count": 15,
   "metadata": {},
   "outputs": [],
   "source": [
    "def to_dict(string):\n",
    "    if string != \"[]\":\n",
    "        string = json.loads(string.replace(\"'\", \"\\\"\"))\n",
    "        return [s[\"screen_name\"] for s in string]\n",
    "    return string"
   ]
  },
  {
   "cell_type": "code",
   "execution_count": 16,
   "metadata": {},
   "outputs": [],
   "source": [
    "reply_to_rows = []\n",
    "for num, row in enumerate(df.reply_to):\n",
    "    try:\n",
    "        to_dict(row)\n",
    "    except:\n",
    "        reply_to_rows.append(num)"
   ]
  },
  {
   "cell_type": "code",
   "execution_count": 17,
   "metadata": {},
   "outputs": [],
   "source": [
    "df.drop(reply_to_rows, inplace = True)"
   ]
  },
  {
   "cell_type": "code",
   "execution_count": 18,
   "metadata": {},
   "outputs": [],
   "source": [
    "df.reply_to = df.reply_to.apply(to_dict)"
   ]
  },
  {
   "cell_type": "code",
   "execution_count": 19,
   "metadata": {},
   "outputs": [],
   "source": [
    "df = df.reset_index().drop(\"index\", axis = 1)"
   ]
  },
  {
   "cell_type": "code",
   "execution_count": 20,
   "metadata": {},
   "outputs": [],
   "source": [
    "mention_rows = []\n",
    "for num, row in enumerate(df.mentions):\n",
    "    try:\n",
    "        to_dict(row)\n",
    "    except:\n",
    "        mention_rows.append(num)"
   ]
  },
  {
   "cell_type": "code",
   "execution_count": 21,
   "metadata": {},
   "outputs": [],
   "source": [
    "df.drop(mention_rows, inplace = True)"
   ]
  },
  {
   "cell_type": "code",
   "execution_count": 22,
   "metadata": {},
   "outputs": [],
   "source": [
    "df.mentions = df.mentions.apply(to_dict)"
   ]
  },
  {
   "cell_type": "code",
   "execution_count": 23,
   "metadata": {},
   "outputs": [],
   "source": [
    "df = df.reset_index().drop(\"index\", axis = 1)"
   ]
  },
  {
   "cell_type": "code",
   "execution_count": 24,
   "metadata": {},
   "outputs": [
    {
     "data": {
      "text/html": [
       "<div>\n",
       "<style scoped>\n",
       "    .dataframe tbody tr th:only-of-type {\n",
       "        vertical-align: middle;\n",
       "    }\n",
       "\n",
       "    .dataframe tbody tr th {\n",
       "        vertical-align: top;\n",
       "    }\n",
       "\n",
       "    .dataframe thead th {\n",
       "        text-align: right;\n",
       "    }\n",
       "</style>\n",
       "<table border=\"1\" class=\"dataframe\">\n",
       "  <thead>\n",
       "    <tr style=\"text-align: right;\">\n",
       "      <th></th>\n",
       "      <th>date</th>\n",
       "      <th>time</th>\n",
       "      <th>username</th>\n",
       "      <th>tweet</th>\n",
       "      <th>mentions</th>\n",
       "      <th>urls</th>\n",
       "      <th>photos</th>\n",
       "      <th>replies_count</th>\n",
       "      <th>retweets_count</th>\n",
       "      <th>likes_count</th>\n",
       "      <th>hashtags</th>\n",
       "      <th>retweet</th>\n",
       "      <th>video</th>\n",
       "      <th>reply_to</th>\n",
       "      <th>trend</th>\n",
       "    </tr>\n",
       "  </thead>\n",
       "  <tbody>\n",
       "    <tr>\n",
       "      <th>0</th>\n",
       "      <td>2020-03-12</td>\n",
       "      <td>1900-01-01 00:58:27</td>\n",
       "      <td>4wheelshop4x4</td>\n",
       "      <td>Prepárate para Descubrir esta Noche un Vehícul...</td>\n",
       "      <td>[4wheelshop4x4, 4wheelshop4x4]</td>\n",
       "      <td>1</td>\n",
       "      <td>1</td>\n",
       "      <td>0</td>\n",
       "      <td>0</td>\n",
       "      <td>0</td>\n",
       "      <td>['11m2020', 'motor', 'pureperformance']</td>\n",
       "      <td>0</td>\n",
       "      <td>1</td>\n",
       "      <td>[]</td>\n",
       "      <td>#11M2020</td>\n",
       "    </tr>\n",
       "    <tr>\n",
       "      <th>1</th>\n",
       "      <td>2020-03-11</td>\n",
       "      <td>1900-01-01 23:24:24</td>\n",
       "      <td>arishkkacaro</td>\n",
       "      <td>@T13 @Rodrigo40946868 Creo que quieren ver ard...</td>\n",
       "      <td>[]</td>\n",
       "      <td>0</td>\n",
       "      <td>0</td>\n",
       "      <td>0</td>\n",
       "      <td>0</td>\n",
       "      <td>0</td>\n",
       "      <td>['11m2020', 'elpeorpresidentedelahistoria']</td>\n",
       "      <td>0</td>\n",
       "      <td>0</td>\n",
       "      <td>[T13, Rodrigo40946868]</td>\n",
       "      <td>#11M2020</td>\n",
       "    </tr>\n",
       "    <tr>\n",
       "      <th>2</th>\n",
       "      <td>2020-03-11</td>\n",
       "      <td>1900-01-01 23:22:23</td>\n",
       "      <td>m_ontoba</td>\n",
       "      <td>@JuegaMundoplay @wastewin7 @iloveclicks 🙏🏻 tri...</td>\n",
       "      <td>[]</td>\n",
       "      <td>0</td>\n",
       "      <td>0</td>\n",
       "      <td>0</td>\n",
       "      <td>0</td>\n",
       "      <td>3</td>\n",
       "      <td>['11m2020']</td>\n",
       "      <td>0</td>\n",
       "      <td>0</td>\n",
       "      <td>[JuegaMundoplay, wastewin7, iloveclicks]</td>\n",
       "      <td>#11M2020</td>\n",
       "    </tr>\n",
       "    <tr>\n",
       "      <th>3</th>\n",
       "      <td>2020-03-11</td>\n",
       "      <td>1900-01-01 23:12:20</td>\n",
       "      <td>silviavazquez</td>\n",
       "      <td>Ya han pasado #16años de ese trágico y fatídic...</td>\n",
       "      <td>[]</td>\n",
       "      <td>0</td>\n",
       "      <td>1</td>\n",
       "      <td>0</td>\n",
       "      <td>16</td>\n",
       "      <td>5</td>\n",
       "      <td>['16años', 'noolvidamos', 'niolvidamosniperdon...</td>\n",
       "      <td>0</td>\n",
       "      <td>1</td>\n",
       "      <td>[]</td>\n",
       "      <td>#11M2020</td>\n",
       "    </tr>\n",
       "    <tr>\n",
       "      <th>4</th>\n",
       "      <td>2020-03-11</td>\n",
       "      <td>1900-01-01 22:55:30</td>\n",
       "      <td>mikesupertramp_</td>\n",
       "      <td>Literalmente en Stgo esta la pura caga #11M2020</td>\n",
       "      <td>[]</td>\n",
       "      <td>0</td>\n",
       "      <td>0</td>\n",
       "      <td>0</td>\n",
       "      <td>0</td>\n",
       "      <td>0</td>\n",
       "      <td>['11m2020']</td>\n",
       "      <td>0</td>\n",
       "      <td>0</td>\n",
       "      <td>[]</td>\n",
       "      <td>#11M2020</td>\n",
       "    </tr>\n",
       "    <tr>\n",
       "      <th>...</th>\n",
       "      <td>...</td>\n",
       "      <td>...</td>\n",
       "      <td>...</td>\n",
       "      <td>...</td>\n",
       "      <td>...</td>\n",
       "      <td>...</td>\n",
       "      <td>...</td>\n",
       "      <td>...</td>\n",
       "      <td>...</td>\n",
       "      <td>...</td>\n",
       "      <td>...</td>\n",
       "      <td>...</td>\n",
       "      <td>...</td>\n",
       "      <td>...</td>\n",
       "      <td>...</td>\n",
       "    </tr>\n",
       "    <tr>\n",
       "      <th>2061645</th>\n",
       "      <td>2020-03-25</td>\n",
       "      <td>1900-01-01 08:25:55</td>\n",
       "      <td>sergio_lorduk</td>\n",
       "      <td>Vamos a darle un poco de ritmo a este día, áni...</td>\n",
       "      <td>[]</td>\n",
       "      <td>1</td>\n",
       "      <td>0</td>\n",
       "      <td>0</td>\n",
       "      <td>0</td>\n",
       "      <td>1</td>\n",
       "      <td>[]</td>\n",
       "      <td>0</td>\n",
       "      <td>0</td>\n",
       "      <td>[]</td>\n",
       "      <td>ánimo sergio</td>\n",
       "    </tr>\n",
       "    <tr>\n",
       "      <th>2061646</th>\n",
       "      <td>2020-03-25</td>\n",
       "      <td>1900-01-01 08:14:23</td>\n",
       "      <td>lonoak</td>\n",
       "      <td>@Sergio_deLuz Mucho ánimo, Sergio</td>\n",
       "      <td>[]</td>\n",
       "      <td>0</td>\n",
       "      <td>0</td>\n",
       "      <td>0</td>\n",
       "      <td>0</td>\n",
       "      <td>0</td>\n",
       "      <td>[]</td>\n",
       "      <td>0</td>\n",
       "      <td>0</td>\n",
       "      <td>[Sergio_deLuz]</td>\n",
       "      <td>ánimo sergio</td>\n",
       "    </tr>\n",
       "    <tr>\n",
       "      <th>2061647</th>\n",
       "      <td>2020-03-25</td>\n",
       "      <td>1900-01-01 06:13:39</td>\n",
       "      <td>rcuquerella1</td>\n",
       "      <td>@SergioVanoG @Nopanaden @RaquelBlascoR @tdelac...</td>\n",
       "      <td>[]</td>\n",
       "      <td>0</td>\n",
       "      <td>0</td>\n",
       "      <td>0</td>\n",
       "      <td>0</td>\n",
       "      <td>1</td>\n",
       "      <td>[]</td>\n",
       "      <td>0</td>\n",
       "      <td>0</td>\n",
       "      <td>[SergioVanoG, Nopanaden, RaquelBlascoR, tdelac...</td>\n",
       "      <td>ánimo sergio</td>\n",
       "    </tr>\n",
       "    <tr>\n",
       "      <th>2061648</th>\n",
       "      <td>2020-03-25</td>\n",
       "      <td>1900-01-01 02:50:47</td>\n",
       "      <td>sergio_camps</td>\n",
       "      <td>Echando una mano en lo que se puede! Animo! en...</td>\n",
       "      <td>[]</td>\n",
       "      <td>1</td>\n",
       "      <td>0</td>\n",
       "      <td>0</td>\n",
       "      <td>0</td>\n",
       "      <td>1</td>\n",
       "      <td>[]</td>\n",
       "      <td>0</td>\n",
       "      <td>0</td>\n",
       "      <td>[]</td>\n",
       "      <td>ánimo sergio</td>\n",
       "    </tr>\n",
       "    <tr>\n",
       "      <th>2061649</th>\n",
       "      <td>2020-03-25</td>\n",
       "      <td>1900-01-01 02:09:18</td>\n",
       "      <td>sergio_ssddcc</td>\n",
       "      <td>@SebasOsio Pues me has dado aun mas interes. Y...</td>\n",
       "      <td>[]</td>\n",
       "      <td>0</td>\n",
       "      <td>0</td>\n",
       "      <td>0</td>\n",
       "      <td>0</td>\n",
       "      <td>2</td>\n",
       "      <td>[]</td>\n",
       "      <td>0</td>\n",
       "      <td>0</td>\n",
       "      <td>[SebasOsio]</td>\n",
       "      <td>ánimo sergio</td>\n",
       "    </tr>\n",
       "  </tbody>\n",
       "</table>\n",
       "<p>2061650 rows × 15 columns</p>\n",
       "</div>"
      ],
      "text/plain": [
       "              date                time         username  \\\n",
       "0       2020-03-12 1900-01-01 00:58:27    4wheelshop4x4   \n",
       "1       2020-03-11 1900-01-01 23:24:24     arishkkacaro   \n",
       "2       2020-03-11 1900-01-01 23:22:23         m_ontoba   \n",
       "3       2020-03-11 1900-01-01 23:12:20    silviavazquez   \n",
       "4       2020-03-11 1900-01-01 22:55:30  mikesupertramp_   \n",
       "...            ...                 ...              ...   \n",
       "2061645 2020-03-25 1900-01-01 08:25:55    sergio_lorduk   \n",
       "2061646 2020-03-25 1900-01-01 08:14:23           lonoak   \n",
       "2061647 2020-03-25 1900-01-01 06:13:39     rcuquerella1   \n",
       "2061648 2020-03-25 1900-01-01 02:50:47     sergio_camps   \n",
       "2061649 2020-03-25 1900-01-01 02:09:18    sergio_ssddcc   \n",
       "\n",
       "                                                     tweet  \\\n",
       "0        Prepárate para Descubrir esta Noche un Vehícul...   \n",
       "1        @T13 @Rodrigo40946868 Creo que quieren ver ard...   \n",
       "2        @JuegaMundoplay @wastewin7 @iloveclicks 🙏🏻 tri...   \n",
       "3        Ya han pasado #16años de ese trágico y fatídic...   \n",
       "4          Literalmente en Stgo esta la pura caga #11M2020   \n",
       "...                                                    ...   \n",
       "2061645  Vamos a darle un poco de ritmo a este día, áni...   \n",
       "2061646                  @Sergio_deLuz Mucho ánimo, Sergio   \n",
       "2061647  @SergioVanoG @Nopanaden @RaquelBlascoR @tdelac...   \n",
       "2061648  Echando una mano en lo que se puede! Animo! en...   \n",
       "2061649  @SebasOsio Pues me has dado aun mas interes. Y...   \n",
       "\n",
       "                               mentions  urls  photos  replies_count  \\\n",
       "0        [4wheelshop4x4, 4wheelshop4x4]     1       1              0   \n",
       "1                                    []     0       0              0   \n",
       "2                                    []     0       0              0   \n",
       "3                                    []     0       1              0   \n",
       "4                                    []     0       0              0   \n",
       "...                                 ...   ...     ...            ...   \n",
       "2061645                              []     1       0              0   \n",
       "2061646                              []     0       0              0   \n",
       "2061647                              []     0       0              0   \n",
       "2061648                              []     1       0              0   \n",
       "2061649                              []     0       0              0   \n",
       "\n",
       "         retweets_count  likes_count  \\\n",
       "0                     0            0   \n",
       "1                     0            0   \n",
       "2                     0            3   \n",
       "3                    16            5   \n",
       "4                     0            0   \n",
       "...                 ...          ...   \n",
       "2061645               0            1   \n",
       "2061646               0            0   \n",
       "2061647               0            1   \n",
       "2061648               0            1   \n",
       "2061649               0            2   \n",
       "\n",
       "                                                  hashtags  retweet  video  \\\n",
       "0                  ['11m2020', 'motor', 'pureperformance']        0      1   \n",
       "1              ['11m2020', 'elpeorpresidentedelahistoria']        0      0   \n",
       "2                                              ['11m2020']        0      0   \n",
       "3        ['16años', 'noolvidamos', 'niolvidamosniperdon...        0      1   \n",
       "4                                              ['11m2020']        0      0   \n",
       "...                                                    ...      ...    ...   \n",
       "2061645                                                 []        0      0   \n",
       "2061646                                                 []        0      0   \n",
       "2061647                                                 []        0      0   \n",
       "2061648                                                 []        0      0   \n",
       "2061649                                                 []        0      0   \n",
       "\n",
       "                                                  reply_to         trend  \n",
       "0                                                       []      #11M2020  \n",
       "1                                   [T13, Rodrigo40946868]      #11M2020  \n",
       "2                 [JuegaMundoplay, wastewin7, iloveclicks]      #11M2020  \n",
       "3                                                       []      #11M2020  \n",
       "4                                                       []      #11M2020  \n",
       "...                                                    ...           ...  \n",
       "2061645                                                 []  ánimo sergio  \n",
       "2061646                                     [Sergio_deLuz]  ánimo sergio  \n",
       "2061647  [SergioVanoG, Nopanaden, RaquelBlascoR, tdelac...  ánimo sergio  \n",
       "2061648                                                 []  ánimo sergio  \n",
       "2061649                                        [SebasOsio]  ánimo sergio  \n",
       "\n",
       "[2061650 rows x 15 columns]"
      ]
     },
     "execution_count": 24,
     "metadata": {},
     "output_type": "execute_result"
    }
   ],
   "source": [
    "df"
   ]
  },
  {
   "cell_type": "code",
   "execution_count": 25,
   "metadata": {},
   "outputs": [
    {
     "name": "stdout",
     "output_type": "stream",
     "text": [
      "<class 'pandas.core.frame.DataFrame'>\n",
      "RangeIndex: 2061650 entries, 0 to 2061649\n",
      "Data columns (total 15 columns):\n",
      " #   Column          Dtype         \n",
      "---  ------          -----         \n",
      " 0   date            datetime64[ns]\n",
      " 1   time            datetime64[ns]\n",
      " 2   username        object        \n",
      " 3   tweet           object        \n",
      " 4   mentions        object        \n",
      " 5   urls            int32         \n",
      " 6   photos          int32         \n",
      " 7   replies_count   int32         \n",
      " 8   retweets_count  int32         \n",
      " 9   likes_count     int32         \n",
      " 10  hashtags        object        \n",
      " 11  retweet         int32         \n",
      " 12  video           int32         \n",
      " 13  reply_to        object        \n",
      " 14  trend           object        \n",
      "dtypes: datetime64[ns](2), int32(7), object(6)\n",
      "memory usage: 180.9+ MB\n"
     ]
    }
   ],
   "source": [
    "df.info()"
   ]
  },
  {
   "cell_type": "code",
   "execution_count": 26,
   "metadata": {},
   "outputs": [],
   "source": [
    "df.to_csv(\"tweets_marzo.csv\", sep = \";\", index = False)"
   ]
  },
  {
   "cell_type": "code",
   "execution_count": 27,
   "metadata": {},
   "outputs": [
    {
     "data": {
      "text/plain": [
       "(2061650, 15)"
      ]
     },
     "execution_count": 27,
     "metadata": {},
     "output_type": "execute_result"
    }
   ],
   "source": [
    "df.shape"
   ]
  },
  {
   "cell_type": "code",
   "execution_count": null,
   "metadata": {},
   "outputs": [],
   "source": []
  }
 ],
 "metadata": {
  "kernelspec": {
   "display_name": "Python 3",
   "language": "python",
   "name": "python3"
  },
  "language_info": {
   "codemirror_mode": {
    "name": "ipython",
    "version": 3
   },
   "file_extension": ".py",
   "mimetype": "text/x-python",
   "name": "python",
   "nbconvert_exporter": "python",
   "pygments_lexer": "ipython3",
   "version": "3.7.6"
  }
 },
 "nbformat": 4,
 "nbformat_minor": 4
}
