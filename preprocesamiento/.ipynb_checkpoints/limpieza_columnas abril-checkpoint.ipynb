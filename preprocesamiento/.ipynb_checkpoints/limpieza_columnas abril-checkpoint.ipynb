{
 "cells": [
  {
   "cell_type": "code",
   "execution_count": 1,
   "metadata": {},
   "outputs": [],
   "source": [
    "import pandas as pd\n",
    "import json\n",
    "\n",
    "from datetime import datetime"
   ]
  },
  {
   "cell_type": "code",
   "execution_count": 2,
   "metadata": {},
   "outputs": [],
   "source": [
    "def to_dict(string):\n",
    "    if string != \"[]\":\n",
    "        string = json.loads(string.replace(\"'\", \"\\\"\"))\n",
    "        return \",\".join([s[\"screen_name\"] for s in string])\n",
    "    return \"\"\n",
    "\n",
    "def to_list(list_):\n",
    "    if list_ != \"[]\":\n",
    "        list_ = list_[1:-1]\n",
    "        list_ = list_.split(\",\")\n",
    "        return \",\".join([s.strip().strip(\"'\") for s in list_])\n",
    "    return \"\""
   ]
  },
  {
   "cell_type": "code",
   "execution_count": 5,
   "metadata": {},
   "outputs": [
    {
     "name": "stderr",
     "output_type": "stream",
     "text": [
      "<string>:2: DtypeWarning: Columns (9) have mixed types.Specify dtype option on import or set low_memory=False.\n"
     ]
    },
    {
     "name": "stdout",
     "output_type": "stream",
     "text": [
      "Wall time: 1min 51s\n"
     ]
    }
   ],
   "source": [
    "%%time\n",
    "df = pd.read_csv(\"C:/Users/Daniel/Desktop/proyecto/notebooks/tweets_abril.csv\", sep = \";\")"
   ]
  },
  {
   "cell_type": "code",
   "execution_count": 6,
   "metadata": {},
   "outputs": [],
   "source": [
    "#df.info()"
   ]
  },
  {
   "cell_type": "code",
   "execution_count": 7,
   "metadata": {},
   "outputs": [
    {
     "data": {
      "text/plain": [
       "Index(['id', 'conversation_id', 'created_at', 'date', 'time', 'timezone',\n",
       "       'user_id', 'username', 'name', 'place', 'tweet', 'language', 'mentions',\n",
       "       'urls', 'photos', 'replies_count', 'retweets_count', 'likes_count',\n",
       "       'hashtags', 'cashtags', 'link', 'retweet', 'quote_url', 'video',\n",
       "       'thumbnail', 'near', 'geo', 'source', 'user_rt_id', 'user_rt',\n",
       "       'retweet_id', 'reply_to', 'retweet_date', 'translate', 'trans_src',\n",
       "       'trans_dest', 'trend'],\n",
       "      dtype='object')"
      ]
     },
     "execution_count": 7,
     "metadata": {},
     "output_type": "execute_result"
    }
   ],
   "source": [
    "df.columns"
   ]
  },
  {
   "cell_type": "code",
   "execution_count": 8,
   "metadata": {},
   "outputs": [],
   "source": [
    "columns_to_drop = [\"conversation_id\", \"cashtags\", \"timezone\", \"user_id\", \"name\", \"near\", \"geo\", \"source\",\n",
    "                   \"user_rt_id\", \"user_rt\", \"retweet_id\", \"retweet_date\", \"translate\", \"trans_src\",\n",
    "                   \"trans_dest\", \"place\", \"quote_url\", \"thumbnail\", \"created_at\", \"id\", \"link\"]\n",
    "\n",
    "df.drop(columns_to_drop, axis = 1, inplace = True)\n",
    "\n",
    "df = df[df.language == \"es\"]\n",
    "\n",
    "df.drop(\"language\", axis = 1, inplace = True)\n",
    "\n",
    "df = df.reset_index().drop(\"index\", axis = 1)"
   ]
  },
  {
   "cell_type": "code",
   "execution_count": 9,
   "metadata": {},
   "outputs": [],
   "source": [
    "#df.head()"
   ]
  },
  {
   "cell_type": "code",
   "execution_count": 10,
   "metadata": {},
   "outputs": [],
   "source": [
    "#df.info()"
   ]
  },
  {
   "cell_type": "code",
   "execution_count": 11,
   "metadata": {},
   "outputs": [
    {
     "data": {
      "text/plain": [
       "Index([], dtype='object')"
      ]
     },
     "execution_count": 11,
     "metadata": {},
     "output_type": "execute_result"
    }
   ],
   "source": [
    "df.columns[df.isna().all()]"
   ]
  },
  {
   "cell_type": "code",
   "execution_count": 12,
   "metadata": {},
   "outputs": [],
   "source": [
    "df.photos = df.photos.apply(lambda x : 1 if x != \"[]\" else 0)"
   ]
  },
  {
   "cell_type": "code",
   "execution_count": 13,
   "metadata": {},
   "outputs": [],
   "source": [
    "df.retweet = df.retweet.apply(lambda x : 1 if x == \"True\" else 0)"
   ]
  },
  {
   "cell_type": "code",
   "execution_count": 14,
   "metadata": {},
   "outputs": [],
   "source": [
    "df.urls = df.urls.apply(lambda x : 1 if x != \"[]\" else 0)"
   ]
  },
  {
   "cell_type": "code",
   "execution_count": 15,
   "metadata": {},
   "outputs": [
    {
     "name": "stdout",
     "output_type": "stream",
     "text": [
      "Wall time: 1min 13s\n"
     ]
    }
   ],
   "source": [
    "%%time\n",
    "df.date = df.date.apply(lambda x : datetime.strptime(x, \"%Y-%m-%d\"))"
   ]
  },
  {
   "cell_type": "code",
   "execution_count": 16,
   "metadata": {},
   "outputs": [
    {
     "name": "stdout",
     "output_type": "stream",
     "text": [
      "Wall time: 1min 15s\n"
     ]
    }
   ],
   "source": [
    "%%time\n",
    "df.time = df.time.apply(lambda x : datetime.strptime(x, \"%H:%M:%S\"))"
   ]
  },
  {
   "cell_type": "code",
   "execution_count": 17,
   "metadata": {},
   "outputs": [],
   "source": [
    "for col in df.columns:\n",
    "    if df[col].dtype == \"int64\":\n",
    "        df[col] = df[col].astype(\"int32\")"
   ]
  },
  {
   "cell_type": "code",
   "execution_count": 18,
   "metadata": {},
   "outputs": [],
   "source": [
    "reply_to_rows = []\n",
    "for num, row in enumerate(df.reply_to):\n",
    "    try:\n",
    "        to_dict(row)\n",
    "    except:\n",
    "        reply_to_rows.append(num)"
   ]
  },
  {
   "cell_type": "code",
   "execution_count": 19,
   "metadata": {},
   "outputs": [],
   "source": [
    "df.drop(reply_to_rows, inplace = True)"
   ]
  },
  {
   "cell_type": "code",
   "execution_count": 20,
   "metadata": {},
   "outputs": [],
   "source": [
    "df.reply_to = df.reply_to.apply(to_dict)"
   ]
  },
  {
   "cell_type": "code",
   "execution_count": 21,
   "metadata": {},
   "outputs": [],
   "source": [
    "df = df.reset_index().drop(\"index\", axis = 1)"
   ]
  },
  {
   "cell_type": "code",
   "execution_count": 22,
   "metadata": {},
   "outputs": [],
   "source": [
    "mention_rows = []\n",
    "for num, row in enumerate(df.mentions):\n",
    "    try:\n",
    "        to_dict(row)\n",
    "    except:\n",
    "        mention_rows.append(num)"
   ]
  },
  {
   "cell_type": "code",
   "execution_count": 23,
   "metadata": {},
   "outputs": [],
   "source": [
    "df.drop(mention_rows, inplace = True)"
   ]
  },
  {
   "cell_type": "code",
   "execution_count": 24,
   "metadata": {},
   "outputs": [],
   "source": [
    "df.mentions = df.mentions.apply(to_dict)"
   ]
  },
  {
   "cell_type": "code",
   "execution_count": 25,
   "metadata": {},
   "outputs": [],
   "source": [
    "df = df.reset_index().drop(\"index\", axis = 1)"
   ]
  },
  {
   "cell_type": "code",
   "execution_count": 26,
   "metadata": {},
   "outputs": [],
   "source": [
    "hashtags_rows = []\n",
    "for num, row in enumerate(df.hashtags):\n",
    "    try:\n",
    "        to_list(row)\n",
    "    except:\n",
    "        hashtags_rows.append(num)"
   ]
  },
  {
   "cell_type": "code",
   "execution_count": 27,
   "metadata": {},
   "outputs": [
    {
     "data": {
      "text/plain": [
       "0"
      ]
     },
     "execution_count": 27,
     "metadata": {},
     "output_type": "execute_result"
    }
   ],
   "source": [
    "len(hashtags_rows)"
   ]
  },
  {
   "cell_type": "code",
   "execution_count": 28,
   "metadata": {},
   "outputs": [],
   "source": [
    "df.drop(hashtags_rows, inplace = True)"
   ]
  },
  {
   "cell_type": "code",
   "execution_count": 29,
   "metadata": {},
   "outputs": [],
   "source": [
    "df.hashtags = df.hashtags.apply(to_list)"
   ]
  },
  {
   "cell_type": "code",
   "execution_count": 30,
   "metadata": {},
   "outputs": [],
   "source": [
    "df = df.reset_index().drop(\"index\", axis = 1)"
   ]
  },
  {
   "cell_type": "code",
   "execution_count": 31,
   "metadata": {},
   "outputs": [
    {
     "data": {
      "text/html": [
       "<div>\n",
       "<style scoped>\n",
       "    .dataframe tbody tr th:only-of-type {\n",
       "        vertical-align: middle;\n",
       "    }\n",
       "\n",
       "    .dataframe tbody tr th {\n",
       "        vertical-align: top;\n",
       "    }\n",
       "\n",
       "    .dataframe thead th {\n",
       "        text-align: right;\n",
       "    }\n",
       "</style>\n",
       "<table border=\"1\" class=\"dataframe\">\n",
       "  <thead>\n",
       "    <tr style=\"text-align: right;\">\n",
       "      <th></th>\n",
       "      <th>date</th>\n",
       "      <th>time</th>\n",
       "      <th>username</th>\n",
       "      <th>tweet</th>\n",
       "      <th>mentions</th>\n",
       "      <th>urls</th>\n",
       "      <th>photos</th>\n",
       "      <th>replies_count</th>\n",
       "      <th>retweets_count</th>\n",
       "      <th>likes_count</th>\n",
       "      <th>hashtags</th>\n",
       "      <th>retweet</th>\n",
       "      <th>video</th>\n",
       "      <th>reply_to</th>\n",
       "      <th>trend</th>\n",
       "    </tr>\n",
       "  </thead>\n",
       "  <tbody>\n",
       "    <tr>\n",
       "      <th>0</th>\n",
       "      <td>2020-04-27</td>\n",
       "      <td>1900-01-01 00:42:32</td>\n",
       "      <td>_juan_escribano</td>\n",
       "      <td>@PauloFutre gracias por el \"like\", ÍDOLO, cont...</td>\n",
       "      <td></td>\n",
       "      <td>0</td>\n",
       "      <td>0</td>\n",
       "      <td>0</td>\n",
       "      <td>0</td>\n",
       "      <td>2</td>\n",
       "      <td>atleti,futre,117añosresistiendo</td>\n",
       "      <td>0</td>\n",
       "      <td>0</td>\n",
       "      <td></td>\n",
       "      <td>#117AnosResistiendo</td>\n",
       "    </tr>\n",
       "    <tr>\n",
       "      <th>1</th>\n",
       "      <td>2020-04-27</td>\n",
       "      <td>1900-01-01 00:33:26</td>\n",
       "      <td>joaofvlix</td>\n",
       "      <td>solo entiende mi locura, quien comparte mi pas...</td>\n",
       "      <td></td>\n",
       "      <td>0</td>\n",
       "      <td>1</td>\n",
       "      <td>1</td>\n",
       "      <td>0</td>\n",
       "      <td>18</td>\n",
       "      <td>117añosresistiendo</td>\n",
       "      <td>0</td>\n",
       "      <td>1</td>\n",
       "      <td></td>\n",
       "      <td>#117AnosResistiendo</td>\n",
       "    </tr>\n",
       "    <tr>\n",
       "      <th>2</th>\n",
       "      <td>2020-04-27</td>\n",
       "      <td>1900-01-01 00:01:28</td>\n",
       "      <td>rocir86</td>\n",
       "      <td>No teníamos la camiseta en casa así que bajamo...</td>\n",
       "      <td></td>\n",
       "      <td>0</td>\n",
       "      <td>1</td>\n",
       "      <td>0</td>\n",
       "      <td>1</td>\n",
       "      <td>10</td>\n",
       "      <td>117anosresistiendo,forzaatleti</td>\n",
       "      <td>0</td>\n",
       "      <td>1</td>\n",
       "      <td></td>\n",
       "      <td>#117AnosResistiendo</td>\n",
       "    </tr>\n",
       "    <tr>\n",
       "      <th>3</th>\n",
       "      <td>2020-04-26</td>\n",
       "      <td>1900-01-01 23:58:46</td>\n",
       "      <td>fa82oficial</td>\n",
       "      <td>No queríamos que se acabara el día sin felicit...</td>\n",
       "      <td>atleti</td>\n",
       "      <td>0</td>\n",
       "      <td>0</td>\n",
       "      <td>2</td>\n",
       "      <td>238</td>\n",
       "      <td>1191</td>\n",
       "      <td>117añosresistiendo</td>\n",
       "      <td>0</td>\n",
       "      <td>0</td>\n",
       "      <td></td>\n",
       "      <td>#117AnosResistiendo</td>\n",
       "    </tr>\n",
       "    <tr>\n",
       "      <th>4</th>\n",
       "      <td>2020-04-26</td>\n",
       "      <td>1900-01-01 22:53:29</td>\n",
       "      <td>johanna_hb_</td>\n",
       "      <td>117 años de sentimiento y #117AñosResistiendo ...</td>\n",
       "      <td>atleti</td>\n",
       "      <td>0</td>\n",
       "      <td>1</td>\n",
       "      <td>0</td>\n",
       "      <td>2</td>\n",
       "      <td>65</td>\n",
       "      <td>117añosresistiendo</td>\n",
       "      <td>0</td>\n",
       "      <td>1</td>\n",
       "      <td></td>\n",
       "      <td>#117AnosResistiendo</td>\n",
       "    </tr>\n",
       "    <tr>\n",
       "      <th>...</th>\n",
       "      <td>...</td>\n",
       "      <td>...</td>\n",
       "      <td>...</td>\n",
       "      <td>...</td>\n",
       "      <td>...</td>\n",
       "      <td>...</td>\n",
       "      <td>...</td>\n",
       "      <td>...</td>\n",
       "      <td>...</td>\n",
       "      <td>...</td>\n",
       "      <td>...</td>\n",
       "      <td>...</td>\n",
       "      <td>...</td>\n",
       "      <td>...</td>\n",
       "      <td>...</td>\n",
       "    </tr>\n",
       "    <tr>\n",
       "      <th>1454485</th>\n",
       "      <td>2020-04-18</td>\n",
       "      <td>1900-01-01 02:04:51</td>\n",
       "      <td>soqui32034616</td>\n",
       "      <td>@ccarballo50 Muchas gracias, Dr. por el tiempo...</td>\n",
       "      <td></td>\n",
       "      <td>0</td>\n",
       "      <td>0</td>\n",
       "      <td>0</td>\n",
       "      <td>0</td>\n",
       "      <td>0</td>\n",
       "      <td></td>\n",
       "      <td>0</td>\n",
       "      <td>0</td>\n",
       "      <td></td>\n",
       "      <td>Íker Jiménez</td>\n",
       "    </tr>\n",
       "    <tr>\n",
       "      <th>1454486</th>\n",
       "      <td>2020-04-18</td>\n",
       "      <td>1900-01-01 02:04:25</td>\n",
       "      <td>manucdl</td>\n",
       "      <td>Carlos Enric &amp;gt; Iker Jiménez</td>\n",
       "      <td></td>\n",
       "      <td>0</td>\n",
       "      <td>0</td>\n",
       "      <td>0</td>\n",
       "      <td>1</td>\n",
       "      <td>1</td>\n",
       "      <td></td>\n",
       "      <td>0</td>\n",
       "      <td>0</td>\n",
       "      <td></td>\n",
       "      <td>Íker Jiménez</td>\n",
       "    </tr>\n",
       "    <tr>\n",
       "      <th>1454487</th>\n",
       "      <td>2020-04-18</td>\n",
       "      <td>1900-01-01 02:03:29</td>\n",
       "      <td>lamascott_</td>\n",
       "      <td>Viendo un directo de Iker Jiménez a las dos de...</td>\n",
       "      <td></td>\n",
       "      <td>0</td>\n",
       "      <td>0</td>\n",
       "      <td>3</td>\n",
       "      <td>0</td>\n",
       "      <td>9</td>\n",
       "      <td></td>\n",
       "      <td>0</td>\n",
       "      <td>0</td>\n",
       "      <td></td>\n",
       "      <td>Íker Jiménez</td>\n",
       "    </tr>\n",
       "    <tr>\n",
       "      <th>1454488</th>\n",
       "      <td>2020-04-18</td>\n",
       "      <td>1900-01-01 02:01:57</td>\n",
       "      <td>vikinguer93</td>\n",
       "      <td>@wallstwolverine Yo me planteo votar a Iker Ji...</td>\n",
       "      <td></td>\n",
       "      <td>0</td>\n",
       "      <td>0</td>\n",
       "      <td>0</td>\n",
       "      <td>1</td>\n",
       "      <td>2</td>\n",
       "      <td></td>\n",
       "      <td>0</td>\n",
       "      <td>0</td>\n",
       "      <td>wallstwolverine</td>\n",
       "      <td>Íker Jiménez</td>\n",
       "    </tr>\n",
       "    <tr>\n",
       "      <th>1454489</th>\n",
       "      <td>2020-04-18</td>\n",
       "      <td>1900-01-01 02:00:47</td>\n",
       "      <td>briganty1910</td>\n",
       "      <td>@ccarballo50 Buenas Noches  Doctor acabó de ve...</td>\n",
       "      <td></td>\n",
       "      <td>0</td>\n",
       "      <td>0</td>\n",
       "      <td>0</td>\n",
       "      <td>0</td>\n",
       "      <td>0</td>\n",
       "      <td></td>\n",
       "      <td>0</td>\n",
       "      <td>0</td>\n",
       "      <td></td>\n",
       "      <td>Íker Jiménez</td>\n",
       "    </tr>\n",
       "  </tbody>\n",
       "</table>\n",
       "<p>1454490 rows × 15 columns</p>\n",
       "</div>"
      ],
      "text/plain": [
       "              date                time         username  \\\n",
       "0       2020-04-27 1900-01-01 00:42:32  _juan_escribano   \n",
       "1       2020-04-27 1900-01-01 00:33:26        joaofvlix   \n",
       "2       2020-04-27 1900-01-01 00:01:28          rocir86   \n",
       "3       2020-04-26 1900-01-01 23:58:46      fa82oficial   \n",
       "4       2020-04-26 1900-01-01 22:53:29      johanna_hb_   \n",
       "...            ...                 ...              ...   \n",
       "1454485 2020-04-18 1900-01-01 02:04:51    soqui32034616   \n",
       "1454486 2020-04-18 1900-01-01 02:04:25          manucdl   \n",
       "1454487 2020-04-18 1900-01-01 02:03:29       lamascott_   \n",
       "1454488 2020-04-18 1900-01-01 02:01:57      vikinguer93   \n",
       "1454489 2020-04-18 1900-01-01 02:00:47     briganty1910   \n",
       "\n",
       "                                                     tweet mentions  urls  \\\n",
       "0        @PauloFutre gracias por el \"like\", ÍDOLO, cont...              0   \n",
       "1        solo entiende mi locura, quien comparte mi pas...              0   \n",
       "2        No teníamos la camiseta en casa así que bajamo...              0   \n",
       "3        No queríamos que se acabara el día sin felicit...   atleti     0   \n",
       "4        117 años de sentimiento y #117AñosResistiendo ...   atleti     0   \n",
       "...                                                    ...      ...   ...   \n",
       "1454485  @ccarballo50 Muchas gracias, Dr. por el tiempo...              0   \n",
       "1454486                     Carlos Enric &gt; Iker Jiménez              0   \n",
       "1454487  Viendo un directo de Iker Jiménez a las dos de...              0   \n",
       "1454488  @wallstwolverine Yo me planteo votar a Iker Ji...              0   \n",
       "1454489  @ccarballo50 Buenas Noches  Doctor acabó de ve...              0   \n",
       "\n",
       "         photos  replies_count  retweets_count  likes_count  \\\n",
       "0             0              0               0            2   \n",
       "1             1              1               0           18   \n",
       "2             1              0               1           10   \n",
       "3             0              2             238         1191   \n",
       "4             1              0               2           65   \n",
       "...         ...            ...             ...          ...   \n",
       "1454485       0              0               0            0   \n",
       "1454486       0              0               1            1   \n",
       "1454487       0              3               0            9   \n",
       "1454488       0              0               1            2   \n",
       "1454489       0              0               0            0   \n",
       "\n",
       "                                hashtags  retweet  video         reply_to  \\\n",
       "0        atleti,futre,117añosresistiendo        0      0                    \n",
       "1                     117añosresistiendo        0      1                    \n",
       "2         117anosresistiendo,forzaatleti        0      1                    \n",
       "3                     117añosresistiendo        0      0                    \n",
       "4                     117añosresistiendo        0      1                    \n",
       "...                                  ...      ...    ...              ...   \n",
       "1454485                                         0      0                    \n",
       "1454486                                         0      0                    \n",
       "1454487                                         0      0                    \n",
       "1454488                                         0      0  wallstwolverine   \n",
       "1454489                                         0      0                    \n",
       "\n",
       "                       trend  \n",
       "0        #117AnosResistiendo  \n",
       "1        #117AnosResistiendo  \n",
       "2        #117AnosResistiendo  \n",
       "3        #117AnosResistiendo  \n",
       "4        #117AnosResistiendo  \n",
       "...                      ...  \n",
       "1454485         Íker Jiménez  \n",
       "1454486         Íker Jiménez  \n",
       "1454487         Íker Jiménez  \n",
       "1454488         Íker Jiménez  \n",
       "1454489         Íker Jiménez  \n",
       "\n",
       "[1454490 rows x 15 columns]"
      ]
     },
     "execution_count": 31,
     "metadata": {},
     "output_type": "execute_result"
    }
   ],
   "source": [
    "df"
   ]
  },
  {
   "cell_type": "code",
   "execution_count": 32,
   "metadata": {
    "scrolled": false
   },
   "outputs": [
    {
     "name": "stdout",
     "output_type": "stream",
     "text": [
      "<class 'pandas.core.frame.DataFrame'>\n",
      "RangeIndex: 1454490 entries, 0 to 1454489\n",
      "Data columns (total 15 columns):\n",
      " #   Column          Non-Null Count    Dtype         \n",
      "---  ------          --------------    -----         \n",
      " 0   date            1454490 non-null  datetime64[ns]\n",
      " 1   time            1454490 non-null  datetime64[ns]\n",
      " 2   username        1454490 non-null  object        \n",
      " 3   tweet           1454490 non-null  object        \n",
      " 4   mentions        1454490 non-null  object        \n",
      " 5   urls            1454490 non-null  int32         \n",
      " 6   photos          1454490 non-null  int32         \n",
      " 7   replies_count   1454490 non-null  int32         \n",
      " 8   retweets_count  1454490 non-null  int32         \n",
      " 9   likes_count     1454490 non-null  int32         \n",
      " 10  hashtags        1454490 non-null  object        \n",
      " 11  retweet         1454490 non-null  int32         \n",
      " 12  video           1454490 non-null  int32         \n",
      " 13  reply_to        1454490 non-null  object        \n",
      " 14  trend           1454490 non-null  object        \n",
      "dtypes: datetime64[ns](2), int32(7), object(6)\n",
      "memory usage: 127.6+ MB\n"
     ]
    }
   ],
   "source": [
    "df.info()"
   ]
  },
  {
   "cell_type": "code",
   "execution_count": 33,
   "metadata": {},
   "outputs": [],
   "source": [
    "df.to_csv(\"tweets_abril.csv\", sep = \";\", index = False)"
   ]
  },
  {
   "cell_type": "code",
   "execution_count": 34,
   "metadata": {},
   "outputs": [
    {
     "data": {
      "text/plain": [
       "(1454490, 15)"
      ]
     },
     "execution_count": 34,
     "metadata": {},
     "output_type": "execute_result"
    }
   ],
   "source": [
    "df.shape"
   ]
  },
  {
   "cell_type": "code",
   "execution_count": null,
   "metadata": {},
   "outputs": [],
   "source": []
  }
 ],
 "metadata": {
  "kernelspec": {
   "display_name": "Python 3",
   "language": "python",
   "name": "python3"
  },
  "language_info": {
   "codemirror_mode": {
    "name": "ipython",
    "version": 3
   },
   "file_extension": ".py",
   "mimetype": "text/x-python",
   "name": "python",
   "nbconvert_exporter": "python",
   "pygments_lexer": "ipython3",
   "version": "3.7.6"
  }
 },
 "nbformat": 4,
 "nbformat_minor": 4
}
