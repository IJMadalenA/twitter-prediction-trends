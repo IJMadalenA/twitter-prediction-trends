{
 "cells": [
  {
   "cell_type": "code",
   "execution_count": 1,
   "metadata": {},
   "outputs": [],
   "source": [
    "import pandas as pd\n",
    "import twint\n",
    "import nest_asyncio\n",
    "import os\n",
    "\n",
    "nest_asyncio.apply()"
   ]
  },
  {
   "cell_type": "code",
   "execution_count": 2,
   "metadata": {},
   "outputs": [],
   "source": [
    "os.chdir(\"C:/Users/Daniel/Desktop/tendencias daniel\")"
   ]
  },
  {
   "cell_type": "code",
   "execution_count": 3,
   "metadata": {},
   "outputs": [],
   "source": [
    "df = pd.read_csv(\"C:/Users/Daniel/Documents/GitHub/SuperProyecto/preprocesamiento/tendencias_24_febrero.csv\", sep = \";\")"
   ]
  },
  {
   "cell_type": "code",
   "execution_count": 6,
   "metadata": {},
   "outputs": [],
   "source": [
    "df.trends.iloc[225:]"
   ]
  },
  {
   "cell_type": "code",
   "execution_count": null,
   "metadata": {},
   "outputs": [],
   "source": [
    "for trend in tendencias:\n",
    "    c = twint.Config()\n",
    "    c.Search = trend\n",
    "    c.Since = \"2020-02-23 23:00:01\"\n",
    "    c.Until = \"2020-02-24 23:00:01\"\n",
    "    c.Store_csv = True\n",
    "    c.Output = \"{}.csv\".format(trend)\n",
    "    twint.run.Search(c)"
   ]
  },
  {
   "cell_type": "code",
   "execution_count": 10,
   "metadata": {},
   "outputs": [],
   "source": [
    "otras_tendencias = ['#btscarpooltomorrow', '#uaetour',\n",
    " '#aselarre',\n",
    " 'atherine johnson',\n",
    " 'volmarsen',\n",
    " 'naranjo',\n",
    " 'censura',\n",
    " '#xboxseriesx',\n",
    " '#díaderosalía',\n",
    " '#huaweimatexs',\n",
    " 'pandemia',\n",
    " 'falling',\n",
    " 'jornada 32',\n",
    " 'cíes',\n",
    " 'ric astley',\n",
    " 'instituto de la mujer',\n",
    " 'barilla',\n",
    " 'el defensor del pueblo',\n",
    " '#felices26estela',\n",
    " '#pelismalaguistas',\n",
    " '#pasióndecanyamanes ',\n",
    " 'atherine johnson ',\n",
    " 'primer ministro',\n",
    " 'plague inc.',\n",
    " '#600vapersniunomenos',\n",
    " '#mireyaalotchat',\n",
    " '#atypical',\n",
    " '#doyouseo',\n",
    " 'plague inc',\n",
    " '#pelisconpandemia',\n",
    " '#napolibarca']"
   ]
  },
  {
   "cell_type": "code",
   "execution_count": null,
   "metadata": {},
   "outputs": [],
   "source": [
    "for trend in otras_tendencias:\n",
    "    c = twint.Config()\n",
    "    c.Search = trend\n",
    "    c.Since = \"2020-02-23 23:00:01\"\n",
    "    c.Until = \"2020-02-24 23:00:01\"\n",
    "    c.Store_csv = True\n",
    "    c.Output = \"{}.csv\".format(trend)\n",
    "    twint.run.Search(c)"
   ]
  },
  {
   "cell_type": "code",
   "execution_count": null,
   "metadata": {},
   "outputs": [],
   "source": []
  }
 ],
 "metadata": {
  "kernelspec": {
   "display_name": "Python 3",
   "language": "python",
   "name": "python3"
  },
  "language_info": {
   "codemirror_mode": {
    "name": "ipython",
    "version": 3
   },
   "file_extension": ".py",
   "mimetype": "text/x-python",
   "name": "python",
   "nbconvert_exporter": "python",
   "pygments_lexer": "ipython3",
   "version": "3.7.6"
  }
 },
 "nbformat": 4,
 "nbformat_minor": 4
}
