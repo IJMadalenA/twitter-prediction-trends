{
 "cells": [
  {
   "cell_type": "code",
   "execution_count": 1,
   "metadata": {},
   "outputs": [],
   "source": [
    "import pandas as pd"
   ]
  },
  {
   "cell_type": "code",
   "execution_count": 2,
   "metadata": {},
   "outputs": [
    {
     "name": "stdout",
     "output_type": "stream",
     "text": [
      "Wall time: 3min 44s\n"
     ]
    }
   ],
   "source": [
    "%%time\n",
    "df_e = pd.read_csv(\"C:/Users/Daniel/Desktop/proyecto/notebooks/tweets_enero.csv\", sep = \";\")\n",
    "df_f = pd.read_csv(\"C:/Users/Daniel/Desktop/proyecto/notebooks/tweets_febrero.csv\", sep = \";\")\n",
    "df_m = pd.read_csv(\"C:/Users/Daniel/Desktop/proyecto/notebooks/tweets_marzo.csv\", sep = \";\")\n",
    "df_a = pd.read_csv(\"C:/Users/Daniel/Desktop/proyecto/notebooks/tweets_abril.csv\", sep = \";\")\n",
    "df = pd.concat([df_e, df_f, df_m, df_a])"
   ]
  },
  {
   "cell_type": "code",
   "execution_count": 3,
   "metadata": {},
   "outputs": [
    {
     "data": {
      "text/html": [
       "<div>\n",
       "<style scoped>\n",
       "    .dataframe tbody tr th:only-of-type {\n",
       "        vertical-align: middle;\n",
       "    }\n",
       "\n",
       "    .dataframe tbody tr th {\n",
       "        vertical-align: top;\n",
       "    }\n",
       "\n",
       "    .dataframe thead th {\n",
       "        text-align: right;\n",
       "    }\n",
       "</style>\n",
       "<table border=\"1\" class=\"dataframe\">\n",
       "  <thead>\n",
       "    <tr style=\"text-align: right;\">\n",
       "      <th></th>\n",
       "      <th>date</th>\n",
       "      <th>time</th>\n",
       "      <th>username</th>\n",
       "      <th>tweet</th>\n",
       "      <th>mentions</th>\n",
       "      <th>urls</th>\n",
       "      <th>photos</th>\n",
       "      <th>replies_count</th>\n",
       "      <th>retweets_count</th>\n",
       "      <th>likes_count</th>\n",
       "      <th>hashtags</th>\n",
       "      <th>retweet</th>\n",
       "      <th>video</th>\n",
       "      <th>reply_to</th>\n",
       "      <th>trend</th>\n",
       "    </tr>\n",
       "  </thead>\n",
       "  <tbody>\n",
       "    <tr>\n",
       "      <th>0</th>\n",
       "      <td>2020-01-30 00:00:00</td>\n",
       "      <td>1900-01-01 00:52:46</td>\n",
       "      <td>jandyta76</td>\n",
       "      <td>Zeynep le dice a Faruk que no va a ir con él, ...</td>\n",
       "      <td>NaN</td>\n",
       "      <td>1</td>\n",
       "      <td>1</td>\n",
       "      <td>5.0</td>\n",
       "      <td>7.0</td>\n",
       "      <td>30.0</td>\n",
       "      <td>zeymeh,i̇brahimçelikkol,demetözdemir,benimkaderim</td>\n",
       "      <td>0</td>\n",
       "      <td>0.0</td>\n",
       "      <td>NaN</td>\n",
       "      <td>Zeynep</td>\n",
       "    </tr>\n",
       "    <tr>\n",
       "      <th>1</th>\n",
       "      <td>2020-01-30 00:00:00</td>\n",
       "      <td>1900-01-01 00:07:10</td>\n",
       "      <td>carlosozdemir</td>\n",
       "      <td>@Andrea45883391 Los 2 papá no quieren para nad...</td>\n",
       "      <td>NaN</td>\n",
       "      <td>1</td>\n",
       "      <td>1</td>\n",
       "      <td>0.0</td>\n",
       "      <td>0.0</td>\n",
       "      <td>0.0</td>\n",
       "      <td>benimkaderim</td>\n",
       "      <td>0</td>\n",
       "      <td>0.0</td>\n",
       "      <td>NaN</td>\n",
       "      <td>Zeynep</td>\n",
       "    </tr>\n",
       "    <tr>\n",
       "      <th>2</th>\n",
       "      <td>2020-01-29 00:00:00</td>\n",
       "      <td>1900-01-01 23:59:28</td>\n",
       "      <td>demet_spain</td>\n",
       "      <td>Mañana toca madrugar, así que os deseo que pas...</td>\n",
       "      <td>NaN</td>\n",
       "      <td>1</td>\n",
       "      <td>1</td>\n",
       "      <td>1.0</td>\n",
       "      <td>1.0</td>\n",
       "      <td>4.0</td>\n",
       "      <td>demetozdemir,demetözdemir,doğduğunevkaderindir...</td>\n",
       "      <td>0</td>\n",
       "      <td>0.0</td>\n",
       "      <td>NaN</td>\n",
       "      <td>Zeynep</td>\n",
       "    </tr>\n",
       "    <tr>\n",
       "      <th>3</th>\n",
       "      <td>2020-01-29 00:00:00</td>\n",
       "      <td>1900-01-01 23:36:12</td>\n",
       "      <td>rafirafi2412</td>\n",
       "      <td>@Andrea45883391 No hubo avance se quedo que a ...</td>\n",
       "      <td>NaN</td>\n",
       "      <td>1</td>\n",
       "      <td>1</td>\n",
       "      <td>1.0</td>\n",
       "      <td>3.0</td>\n",
       "      <td>3.0</td>\n",
       "      <td>NaN</td>\n",
       "      <td>0</td>\n",
       "      <td>0.0</td>\n",
       "      <td>NaN</td>\n",
       "      <td>Zeynep</td>\n",
       "    </tr>\n",
       "    <tr>\n",
       "      <th>4</th>\n",
       "      <td>2020-01-29 00:00:00</td>\n",
       "      <td>1900-01-01 23:22:07</td>\n",
       "      <td>goalyolanda</td>\n",
       "      <td>Mejor la suegra de Zeynep k la madre Sakine #B...</td>\n",
       "      <td>NaN</td>\n",
       "      <td>1</td>\n",
       "      <td>1</td>\n",
       "      <td>1.0</td>\n",
       "      <td>3.0</td>\n",
       "      <td>2.0</td>\n",
       "      <td>benimkaderim</td>\n",
       "      <td>0</td>\n",
       "      <td>0.0</td>\n",
       "      <td>NaN</td>\n",
       "      <td>Zeynep</td>\n",
       "    </tr>\n",
       "  </tbody>\n",
       "</table>\n",
       "</div>"
      ],
      "text/plain": [
       "                  date                 time       username  \\\n",
       "0  2020-01-30 00:00:00  1900-01-01 00:52:46      jandyta76   \n",
       "1  2020-01-30 00:00:00  1900-01-01 00:07:10  carlosozdemir   \n",
       "2  2020-01-29 00:00:00  1900-01-01 23:59:28    demet_spain   \n",
       "3  2020-01-29 00:00:00  1900-01-01 23:36:12   rafirafi2412   \n",
       "4  2020-01-29 00:00:00  1900-01-01 23:22:07    goalyolanda   \n",
       "\n",
       "                                               tweet mentions  urls  photos  \\\n",
       "0  Zeynep le dice a Faruk que no va a ir con él, ...      NaN     1       1   \n",
       "1  @Andrea45883391 Los 2 papá no quieren para nad...      NaN     1       1   \n",
       "2  Mañana toca madrugar, así que os deseo que pas...      NaN     1       1   \n",
       "3  @Andrea45883391 No hubo avance se quedo que a ...      NaN     1       1   \n",
       "4  Mejor la suegra de Zeynep k la madre Sakine #B...      NaN     1       1   \n",
       "\n",
       "   replies_count  retweets_count  likes_count  \\\n",
       "0            5.0             7.0         30.0   \n",
       "1            0.0             0.0          0.0   \n",
       "2            1.0             1.0          4.0   \n",
       "3            1.0             3.0          3.0   \n",
       "4            1.0             3.0          2.0   \n",
       "\n",
       "                                            hashtags  retweet  video reply_to  \\\n",
       "0  zeymeh,i̇brahimçelikkol,demetözdemir,benimkaderim        0    0.0      NaN   \n",
       "1                                       benimkaderim        0    0.0      NaN   \n",
       "2  demetozdemir,demetözdemir,doğduğunevkaderindir...        0    0.0      NaN   \n",
       "3                                                NaN        0    0.0      NaN   \n",
       "4                                       benimkaderim        0    0.0      NaN   \n",
       "\n",
       "    trend  \n",
       "0  Zeynep  \n",
       "1  Zeynep  \n",
       "2  Zeynep  \n",
       "3  Zeynep  \n",
       "4  Zeynep  "
      ]
     },
     "execution_count": 3,
     "metadata": {},
     "output_type": "execute_result"
    }
   ],
   "source": [
    "df.head()"
   ]
  },
  {
   "cell_type": "code",
   "execution_count": 4,
   "metadata": {},
   "outputs": [
    {
     "data": {
      "text/plain": [
       "(6537191, 15)"
      ]
     },
     "execution_count": 4,
     "metadata": {},
     "output_type": "execute_result"
    }
   ],
   "source": [
    "df.shape"
   ]
  },
  {
   "cell_type": "code",
   "execution_count": 5,
   "metadata": {},
   "outputs": [],
   "source": [
    "df.to_csv(\"todos_tweets.csv\", sep = \";\", index = False)"
   ]
  },
  {
   "cell_type": "code",
   "execution_count": null,
   "metadata": {},
   "outputs": [],
   "source": []
  }
 ],
 "metadata": {
  "kernelspec": {
   "display_name": "Python 3",
   "language": "python",
   "name": "python3"
  },
  "language_info": {
   "codemirror_mode": {
    "name": "ipython",
    "version": 3
   },
   "file_extension": ".py",
   "mimetype": "text/x-python",
   "name": "python",
   "nbconvert_exporter": "python",
   "pygments_lexer": "ipython3",
   "version": "3.7.6"
  }
 },
 "nbformat": 4,
 "nbformat_minor": 4
}
